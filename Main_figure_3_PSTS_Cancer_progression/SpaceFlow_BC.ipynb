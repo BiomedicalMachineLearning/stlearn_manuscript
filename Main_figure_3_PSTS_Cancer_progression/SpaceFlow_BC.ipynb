{
 "cells": [
  {
   "cell_type": "code",
   "execution_count": 1,
   "id": "1219b676-17e5-4c91-b3aa-f922305005e7",
   "metadata": {},
   "outputs": [],
   "source": [
    "import scanpy as sc\n",
    "from SpaceFlow import SpaceFlow"
   ]
  },
  {
   "cell_type": "code",
   "execution_count": 2,
   "id": "f57244b8-afc5-439a-b9d6-a4de737573cb",
   "metadata": {},
   "outputs": [
    {
     "name": "stderr",
     "output_type": "stream",
     "text": [
      "Variable names are not unique. To make them unique, call `.var_names_make_unique`.\n",
      "Variable names are not unique. To make them unique, call `.var_names_make_unique`.\n"
     ]
    }
   ],
   "source": [
    "adata = sc.read_visium(\"../../UQ/10X/BCBA/\")"
   ]
  },
  {
   "cell_type": "code",
   "execution_count": 3,
   "id": "67f49486-b4ad-4979-bd4f-8b752c39ecf8",
   "metadata": {},
   "outputs": [
    {
     "name": "stderr",
     "output_type": "stream",
     "text": [
      "Variable names are not unique. To make them unique, call `.var_names_make_unique`.\n",
      "Variable names are not unique. To make them unique, call `.var_names_make_unique`.\n"
     ]
    }
   ],
   "source": [
    "sc.pp.filter_genes(adata, min_cells=3)"
   ]
  },
  {
   "cell_type": "code",
   "execution_count": 4,
   "id": "ca0d46e9-7109-4440-80cb-217088c927df",
   "metadata": {},
   "outputs": [],
   "source": [
    "sf = SpaceFlow.SpaceFlow(adata=adata)"
   ]
  },
  {
   "cell_type": "code",
   "execution_count": 5,
   "id": "abb4fa37-eabc-4bab-b452-dced9bb1ec6b",
   "metadata": {},
   "outputs": [],
   "source": [
    "sf.preprocessing_data(n_top_genes=3000)"
   ]
  },
  {
   "cell_type": "code",
   "execution_count": 6,
   "id": "78da0092-c795-472a-9deb-6a7473c5d399",
   "metadata": {},
   "outputs": [
    {
     "name": "stdout",
     "output_type": "stream",
     "text": [
      "Epoch 2/1000, Loss: 1.7132576704025269\n",
      "Epoch 12/1000, Loss: 1.4419407844543457\n",
      "Epoch 22/1000, Loss: 1.3722012042999268\n",
      "Epoch 32/1000, Loss: 1.1821208000183105\n",
      "Epoch 42/1000, Loss: 0.7665349841117859\n",
      "Epoch 52/1000, Loss: 0.4856545329093933\n",
      "Epoch 62/1000, Loss: 0.2862514555454254\n",
      "Epoch 72/1000, Loss: 0.2568659782409668\n",
      "Epoch 82/1000, Loss: 0.14247408509254456\n",
      "Epoch 92/1000, Loss: 0.11423088610172272\n",
      "Epoch 102/1000, Loss: 0.09706973284482956\n",
      "Epoch 112/1000, Loss: 0.08786627650260925\n",
      "Epoch 122/1000, Loss: 0.07831180095672607\n",
      "Epoch 132/1000, Loss: 0.06937146186828613\n",
      "Epoch 142/1000, Loss: 0.07243567705154419\n",
      "Epoch 152/1000, Loss: 0.06235332787036896\n",
      "Epoch 162/1000, Loss: 0.06424587965011597\n",
      "Epoch 172/1000, Loss: 0.05958621948957443\n",
      "Epoch 182/1000, Loss: 0.055551499128341675\n",
      "Epoch 192/1000, Loss: 0.05725855007767677\n",
      "Epoch 202/1000, Loss: 0.05293223261833191\n",
      "Epoch 212/1000, Loss: 0.056399211287498474\n",
      "Epoch 222/1000, Loss: 0.05303143337368965\n",
      "Epoch 232/1000, Loss: 0.050654832273721695\n",
      "Epoch 242/1000, Loss: 0.050670500844717026\n",
      "Epoch 252/1000, Loss: 0.04768010601401329\n",
      "Epoch 262/1000, Loss: 0.04648194462060928\n",
      "Epoch 272/1000, Loss: 0.0441039577126503\n",
      "Epoch 282/1000, Loss: 0.04774366691708565\n",
      "Epoch 292/1000, Loss: 0.046581875532865524\n",
      "Epoch 302/1000, Loss: 0.044280193746089935\n",
      "Epoch 312/1000, Loss: 0.044684022665023804\n",
      "Epoch 322/1000, Loss: 0.04172679781913757\n",
      "Epoch 332/1000, Loss: 0.043695949018001556\n",
      "Epoch 342/1000, Loss: 0.041944295167922974\n",
      "Epoch 352/1000, Loss: 0.04411377012729645\n",
      "Epoch 362/1000, Loss: 0.04220769926905632\n",
      "Epoch 372/1000, Loss: 0.04014615714550018\n",
      "Epoch 382/1000, Loss: 0.039142947643995285\n",
      "Epoch 392/1000, Loss: 0.04451978951692581\n",
      "Epoch 402/1000, Loss: 0.040820177644491196\n",
      "Epoch 412/1000, Loss: 0.043135032057762146\n",
      "Epoch 422/1000, Loss: 0.0574350543320179\n",
      "Epoch 432/1000, Loss: 1.8633100986480713\n",
      "Epoch 442/1000, Loss: 0.18921580910682678\n",
      "Epoch 452/1000, Loss: 0.19191595911979675\n",
      "Epoch 462/1000, Loss: 0.12478700280189514\n",
      "Training complete!\n",
      "Embedding is saved at ./embedding.tsv\n"
     ]
    },
    {
     "data": {
      "text/plain": [
       "array([[-0.18250813, -0.06499572,  0.70310426, ..., -0.17565478,\n",
       "        -0.06417347,  3.892823  ],\n",
       "       [-0.07638925, -0.3287349 ,  2.2737367 , ...,  0.2160994 ,\n",
       "        -0.5235579 , -0.30812603],\n",
       "       [-0.07622667, -0.02140256,  0.5190417 , ...,  0.03471868,\n",
       "        -0.12295774,  3.272932  ],\n",
       "       ...,\n",
       "       [-0.07048278, -0.34284237,  2.3999305 , ...,  0.3387712 ,\n",
       "        -0.5766073 , -0.36662024],\n",
       "       [-0.42028502, -0.02264594,  0.27952936, ...,  0.7194176 ,\n",
       "         0.9254512 ,  1.9210303 ],\n",
       "       [-0.38261732,  0.7553791 , -0.0852591 , ...,  2.4302502 ,\n",
       "         0.9967844 ,  0.40282995]], dtype=float32)"
      ]
     },
     "execution_count": 6,
     "metadata": {},
     "output_type": "execute_result"
    }
   ],
   "source": [
    "sf.train(spatial_regularization_strength=0.1, \n",
    "         z_dim=50, lr=1e-3, epochs=1000, \n",
    "         max_patience=50, min_stop=100, \n",
    "         random_seed=42, gpu=0, \n",
    "         regularization_acceleration=True, \n",
    "         edge_subset_sz=1000000)"
   ]
  },
  {
   "cell_type": "code",
   "execution_count": 7,
   "id": "d7b8f316-d50d-4d46-81b1-abbdcb6afe64",
   "metadata": {},
   "outputs": [
    {
     "name": "stdout",
     "output_type": "stream",
     "text": [
      "Performing domain segmentation\n",
      "Segmentation complete, domain labels of cells or spots saved at ./domains_bc.tsv !\n"
     ]
    }
   ],
   "source": [
    "sf.segmentation(domain_label_save_filepath=\"./domains_bc.tsv\", n_neighbors=50, resolution=1.0)"
   ]
  },
  {
   "cell_type": "code",
   "execution_count": 9,
   "id": "66073500-4e13-4a7c-ba00-c0fccf9669bd",
   "metadata": {},
   "outputs": [
    {
     "name": "stdout",
     "output_type": "stream",
     "text": [
      "Plotting complete, segmentation figure saved at ./domain_segmentation_bc.pdf !\n"
     ]
    }
   ],
   "source": [
    "sf.plot_segmentation(segmentation_figure_save_filepath=\"./domain_segmentation_bc.pdf\", colormap=\"tab20\", scatter_sz=1., rsz=4., csz=4., wspace=.4, hspace=.5, left=0.125, right=0.9, bottom=0.1, top=0.9)"
   ]
  },
  {
   "cell_type": "code",
   "execution_count": 8,
   "id": "c56dc8d4-7d9f-410e-8f73-e57971fc9432",
   "metadata": {},
   "outputs": [
    {
     "name": "stdout",
     "output_type": "stream",
     "text": [
      "Performing pseudo-Spatiotemporal Map\n",
      "pseudo-Spatiotemporal Map(pSM) calculation complete, pSM values of cells or spots saved at ./pSM_values_bc.tsv!\n"
     ]
    }
   ],
   "source": [
    "sf.pseudo_Spatiotemporal_Map(pSM_values_save_filepath=\"./pSM_values_bc.tsv\", n_neighbors=20, resolution=1.0)"
   ]
  }
 ],
 "metadata": {
  "kernelspec": {
   "display_name": "Python 3 (ipykernel)",
   "language": "python",
   "name": "python3"
  },
  "language_info": {
   "codemirror_mode": {
    "name": "ipython",
    "version": 3
   },
   "file_extension": ".py",
   "mimetype": "text/x-python",
   "name": "python",
   "nbconvert_exporter": "python",
   "pygments_lexer": "ipython3",
   "version": "3.8.16"
  }
 },
 "nbformat": 4,
 "nbformat_minor": 5
}
