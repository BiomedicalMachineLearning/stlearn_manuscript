{
 "cells": [
  {
   "cell_type": "code",
   "execution_count": 1,
   "id": "30243c99",
   "metadata": {},
   "outputs": [],
   "source": [
    "import os,csv,re\n",
    "import pandas as pd\n",
    "import numpy as np\n",
    "import scanpy as sc\n",
    "import math\n",
    "import SpaGCN as spg\n",
    "from scipy.sparse import issparse\n",
    "import random, torch\n",
    "import warnings\n",
    "warnings.filterwarnings(\"ignore\")\n",
    "import matplotlib.colors as clr\n",
    "import matplotlib.pyplot as plt\n",
    "import SpaGCN as spg\n",
    "#In order to read in image data, we need to install some package. Here we recommend package \"opencv\"\n",
    "#inatll opencv in python\n",
    "#!pip3 install opencv-python\n",
    "import cv2\n",
    "from pathlib import Path\n",
    "from scanpy import read_10x_h5\n",
    "import anndata"
   ]
  },
  {
   "cell_type": "code",
   "execution_count": 2,
   "id": "56b1aff9",
   "metadata": {},
   "outputs": [],
   "source": [
    "BASE_PATH = Path(\"/scratch/90days/uqxtan9/mouse_brain_coronal\")"
   ]
  },
  {
   "cell_type": "code",
   "execution_count": 3,
   "id": "f3b8abf3",
   "metadata": {},
   "outputs": [],
   "source": [
    "# adata = read_10x_h5(BASE_PATH / \"V1_Adult_Mouse_Brain_filtered_feature_bc_matrix.h5\")\n",
    "# spatial=pd.read_csv(BASE_PATH / \"spatial/tissue_positions_list.csv\",sep=\",\",header=None,na_filter=False,index_col=0) \n",
    "# adata.obs[\"x1\"]=spatial[1]\n",
    "# adata.obs[\"x2\"]=spatial[2]\n",
    "# adata.obs[\"x3\"]=spatial[3]\n",
    "# adata.obs[\"x4\"]=spatial[4]\n",
    "# adata.obs[\"x5\"]=spatial[5]\n",
    "# #Select captured samples\n",
    "# adata=adata[adata.obs[\"x1\"]==1]\n",
    "# adata.var_names=[i.upper() for i in list(adata.var_names)]\n",
    "# adata.var[\"genename\"]=adata.var.index.astype(\"str\")\n",
    "# adata.write_h5ad(\"./mouse_brain_10x_raw.h5ad\")"
   ]
  },
  {
   "cell_type": "code",
   "execution_count": 4,
   "id": "434731f7",
   "metadata": {},
   "outputs": [
    {
     "name": "stderr",
     "output_type": "stream",
     "text": [
      "Variable names are not unique. To make them unique, call `.var_names_make_unique`.\n"
     ]
    }
   ],
   "source": [
    "adata=sc.read(\"./mouse_brain_10x_raw.h5ad\")\n",
    "#Read in hitology image\n",
    "img=cv2.imread(str(BASE_PATH / \"V1_Adult_Mouse_Brain_image.tif\"))\n",
    "# img=cv2.imread(str(BASE_PATH / \"spatial/tissue_hires_image.png\"))"
   ]
  },
  {
   "cell_type": "code",
   "execution_count": 5,
   "id": "7250a831",
   "metadata": {},
   "outputs": [
    {
     "data": {
      "text/plain": [
       "True"
      ]
     },
     "execution_count": 5,
     "metadata": {},
     "output_type": "execute_result"
    }
   ],
   "source": [
    "adata.obs[\"x_array\"]=adata.obs[\"x2\"]\n",
    "adata.obs[\"y_array\"]=adata.obs[\"x3\"]\n",
    "adata.obs[\"x_pixel\"]=adata.obs[\"x4\"]\n",
    "adata.obs[\"y_pixel\"]=adata.obs[\"x5\"]\n",
    "x_array=adata.obs[\"x_array\"].tolist()\n",
    "y_array=adata.obs[\"y_array\"].tolist()\n",
    "x_pixel=adata.obs[\"x_pixel\"].tolist()\n",
    "y_pixel=adata.obs[\"y_pixel\"].tolist()\n",
    "\n",
    "#Test coordinates on the image\n",
    "img_new=img.copy()\n",
    "for i in range(len(x_pixel)):\n",
    "    x=x_pixel[i]\n",
    "    y=y_pixel[i]\n",
    "    img_new[int(x-20):int(x+20), int(y-20):int(y+20),:]=0\n",
    "\n",
    "cv2.imwrite('./mouse_brain_10x_raw.jpg', img_new)"
   ]
  },
  {
   "cell_type": "code",
   "execution_count": 6,
   "id": "1b26536a",
   "metadata": {},
   "outputs": [
    {
     "name": "stdout",
     "output_type": "stream",
     "text": [
      "Calculateing adj matrix using histology image...\n",
      "Var of c0,c1,c2 =  12.487103939458287 106.75766298767053 43.90335715441911\n",
      "Var of x,y,z =  4666037.147723295 2934587.8010952845 4666037.147723297\n"
     ]
    }
   ],
   "source": [
    "s=1\n",
    "b=49\n",
    "adj=spg.calculate_adj_matrix(x=x_pixel,y=y_pixel, x_pixel=x_pixel, y_pixel=y_pixel, image=img, beta=b, alpha=s, histology=True)\n",
    "#If histlogy image is not available, SoaGCN can calculate the adjacent matrix using the fnction below\n",
    "#adj=calculate_adj_matrix(x=x_pixel,y=y_pixel, histology=False)\n",
    "np.savetxt('./mouse_brain_10x_adj.csv', adj, delimiter=',')"
   ]
  },
  {
   "cell_type": "code",
   "execution_count": 7,
   "id": "c2db87bd",
   "metadata": {},
   "outputs": [],
   "source": [
    "adata.var_names_make_unique()\n",
    "spg.prefilter_genes(adata,min_cells=3) # avoiding all genes are zeros\n",
    "spg.prefilter_specialgenes(adata)\n",
    "#Normalize and take log for UMI\n",
    "sc.pp.normalize_per_cell(adata)\n",
    "sc.pp.log1p(adata)"
   ]
  },
  {
   "cell_type": "code",
   "execution_count": 8,
   "id": "885f0847",
   "metadata": {},
   "outputs": [
    {
     "name": "stdout",
     "output_type": "stream",
     "text": [
      "Run 1: l [0.01, 1000], p [0.0, 106.9199435206556]\n",
      "Run 2: l [0.01, 500.005], p [0.0, 17.28647232055664]\n",
      "Run 3: l [0.01, 250.0075], p [0.0, 2.399655818939209]\n",
      "Run 4: l [125.00874999999999, 250.0075], p [0.2849555015563965, 2.399655818939209]\n",
      "Run 5: l [125.00874999999999, 187.508125], p [0.2849555015563965, 1.0137228965759277]\n",
      "Run 6: l [125.00874999999999, 156.2584375], p [0.2849555015563965, 0.5789223909378052]\n",
      "Run 7: l [140.63359375, 156.2584375], p [0.4159437417984009, 0.5789223909378052]\n",
      "recommended l =  148.446015625\n"
     ]
    }
   ],
   "source": [
    "p=0.5 \n",
    "#Find the l value given p\n",
    "l=spg.search_l(p, adj, start=0.01, end=1000, tol=0.01, max_run=100)"
   ]
  },
  {
   "cell_type": "code",
   "execution_count": 9,
   "id": "1384d85d",
   "metadata": {},
   "outputs": [
    {
     "name": "stdout",
     "output_type": "stream",
     "text": [
      "Start at res =  0.7 step =  0.1\n",
      "Initializing cluster centers with louvain, resolution =  0.7\n",
      "Epoch  0\n",
      "Epoch  10\n",
      "Res =  0.7 Num of clusters =  14\n",
      "Initializing cluster centers with louvain, resolution =  0.7999999999999999\n",
      "Epoch  0\n",
      "Epoch  10\n",
      "Res =  0.7999999999999999 Num of clusters =  17\n",
      "Res changed to 0.7999999999999999\n",
      "Initializing cluster centers with louvain, resolution =  0.8999999999999999\n",
      "Epoch  0\n",
      "Epoch  10\n",
      "Res =  0.8999999999999999 Num of clusters =  18\n",
      "Res changed to 0.8999999999999999\n",
      "Initializing cluster centers with louvain, resolution =  0.9999999999999999\n",
      "Epoch  0\n",
      "Epoch  10\n",
      "Res =  0.9999999999999999 Num of clusters =  18\n",
      "Res changed to 0.9999999999999999\n",
      "Initializing cluster centers with louvain, resolution =  1.0999999999999999\n",
      "Epoch  0\n",
      "Epoch  10\n",
      "Res =  1.0999999999999999 Num of clusters =  18\n",
      "Res changed to 1.0999999999999999\n",
      "Initializing cluster centers with louvain, resolution =  1.2\n",
      "Epoch  0\n",
      "Epoch  10\n",
      "Res =  1.2 Num of clusters =  19\n",
      "recommended res =  1.2\n"
     ]
    }
   ],
   "source": [
    "#For this toy data, we set the number of clusters=7 since this tissue has 7 layers\n",
    "n_clusters=19\n",
    "#Set seed\n",
    "r_seed=t_seed=n_seed=100\n",
    "#Search for suitable resolution\n",
    "res=spg.search_res(adata, adj, l, n_clusters, start=0.7, step=0.1, tol=5e-3, lr=0.05, \n",
    "                   max_epochs=20, r_seed=r_seed, t_seed=t_seed, n_seed=n_seed)"
   ]
  },
  {
   "cell_type": "code",
   "execution_count": 10,
   "id": "f7376ba7",
   "metadata": {},
   "outputs": [
    {
     "name": "stdout",
     "output_type": "stream",
     "text": [
      "Initializing cluster centers with louvain, resolution =  1.2\n",
      "Epoch  0\n",
      "Epoch  10\n",
      "Epoch  20\n",
      "Epoch  30\n",
      "delta_label  0.004818383988139363 < tol  0.005\n",
      "Reach tolerance threshold. Stopping training.\n",
      "Total epoch: 37\n",
      "Calculateing adj matrix using xy only...\n"
     ]
    }
   ],
   "source": [
    "clf=spg.SpaGCN()\n",
    "clf.set_l(l)\n",
    "#Set seed\n",
    "random.seed(r_seed)\n",
    "torch.manual_seed(t_seed)\n",
    "np.random.seed(n_seed)\n",
    "#Run\n",
    "clf.train(adata,adj,init_spa=True,init=\"louvain\",res=res, tol=5e-3, lr=0.05, max_epochs=200)\n",
    "y_pred, prob=clf.predict()\n",
    "adata.obs[\"pred\"]= y_pred\n",
    "adata.obs[\"pred\"]=adata.obs[\"pred\"].astype('category')\n",
    "#Do cluster refinement(optional)\n",
    "#shape=\"hexagon\" for Visium data, \"square\" for ST data.\n",
    "adj_2d=spg.calculate_adj_matrix(x=x_array,y=y_array, histology=False)\n",
    "refined_pred=spg.refine(sample_id=adata.obs.index.tolist(), pred=adata.obs[\"pred\"].tolist(), dis=adj_2d, shape=\"hexagon\")\n",
    "adata.obs[\"refined_pred\"]=refined_pred\n",
    "adata.obs[\"refined_pred\"]=adata.obs[\"refined_pred\"].astype('category')\n",
    "#Save results\n",
    "# adata.write_h5ad(\"./mouse_brain_10x_results.h5ad\")"
   ]
  },
  {
   "cell_type": "code",
   "execution_count": 14,
   "id": "54567f7b",
   "metadata": {},
   "outputs": [],
   "source": [
    "adata = anndata.read_h5ad(\"./mouse_brain_10x_results.h5ad\")"
   ]
  },
  {
   "cell_type": "code",
   "execution_count": 16,
   "id": "89b8e020",
   "metadata": {},
   "outputs": [],
   "source": [
    "adata.obs.to_csv(\"mouse_brain_10x_results_obs.csv\")"
   ]
  },
  {
   "cell_type": "code",
   "execution_count": 11,
   "id": "6db789d9",
   "metadata": {},
   "outputs": [
    {
     "data": {
      "image/png": "[encoded data removed]",
      "text/plain": [
       "<Figure size 609.84x288 with 1 Axes>"
      ]
     },
     "metadata": {
      "needs_background": "light"
     },
     "output_type": "display_data"
    }
   ],
   "source": [
    "plot_color=[\"#F56867\",\"#FEB915\",\"#C798EE\",\"#59BE86\",\"#7495D3\",\"#D1D1D1\",\"#6D1A9C\",\"#15821E\",\"#3A84E6\",\"#997273\",\"#787878\",\"#DB4C6C\",\"#9E7A7A\",\"#554236\",\"#AF5F3C\",\"#93796C\",\"#F9BD3F\",\"#DAB370\",\"#877F6C\",\"#268785\"]\n",
    "#Plot spatial domains\n",
    "domains=\"pred\"\n",
    "num_celltype=len(adata.obs[domains].unique())\n",
    "adata.uns[domains+\"_colors\"]=list(plot_color[:num_celltype])\n",
    "ax=sc.pl.scatter(adata,alpha=1,x=\"y_pixel\",y=\"x_pixel\",color=domains,title=domains,color_map=plot_color,show=False,size=100000/adata.shape[0])\n",
    "ax.set_aspect('equal', 'box')\n",
    "ax.axes.invert_yaxis()\n",
    "# plt.savefig(\"./mouse_brain_10x/pred.png\", dpi=600)\n",
    "# plt.close()\n",
    "plt.show()"
   ]
  },
  {
   "cell_type": "code",
   "execution_count": 12,
   "id": "f25c54d0",
   "metadata": {},
   "outputs": [
    {
     "data": {
      "image/png": "[encoded data removed]",
      "text/plain": [
       "<Figure size 609.84x288 with 1 Axes>"
      ]
     },
     "metadata": {
      "needs_background": "light"
     },
     "output_type": "display_data"
    }
   ],
   "source": [
    "#Plot refined spatial domains\n",
    "domains=\"refined_pred\"\n",
    "num_celltype=len(adata.obs[domains].unique())\n",
    "adata.uns[domains+\"_colors\"]=list(plot_color[:num_celltype])\n",
    "ax=sc.pl.scatter(adata,alpha=1,x=\"y_pixel\",y=\"x_pixel\",color=domains,title=domains,color_map=plot_color,show=False,size=100000/adata.shape[0])\n",
    "ax.set_aspect('equal', 'box')\n",
    "ax.axes.invert_yaxis()\n",
    "# plt.savefig(\"./mouse_brain_10x/refined_pred.png\", dpi=600)\n",
    "# plt.close()\n",
    "plt.show()"
   ]
  },
  {
   "cell_type": "code",
   "execution_count": null,
   "id": "308e1776",
   "metadata": {},
   "outputs": [],
   "source": []
  },
  {
   "cell_type": "code",
   "execution_count": null,
   "id": "00cabce1",
   "metadata": {},
   "outputs": [],
   "source": []
  },
  {
   "cell_type": "code",
   "execution_count": null,
   "id": "1acf738d",
   "metadata": {},
   "outputs": [],
   "source": []
  },
  {
   "cell_type": "code",
   "execution_count": 5,
   "id": "088089e8",
   "metadata": {},
   "outputs": [
    {
     "name": "stderr",
     "output_type": "stream",
     "text": [
      "Variable names are not unique. To make them unique, call `.var_names_make_unique`.\n"
     ]
    }
   ],
   "source": [
    "adata=sc.read(\"./mouse_brain_10x_raw.h5ad\")\n",
    "#Read in hitology image\n",
    "img=cv2.imread(str(BASE_PATH / \"V1_Adult_Mouse_Brain_image.tif\"))"
   ]
  },
  {
   "cell_type": "code",
   "execution_count": 81,
   "id": "bfad1463",
   "metadata": {},
   "outputs": [],
   "source": [
    "sample_cell= 0.2\n",
    "sample_gene=0.1"
   ]
  },
  {
   "cell_type": "code",
   "execution_count": 82,
   "id": "38fb4e4b",
   "metadata": {},
   "outputs": [
    {
     "name": "stderr",
     "output_type": "stream",
     "text": [
      "Variable names are not unique. To make them unique, call `.var_names_make_unique`.\n"
     ]
    }
   ],
   "source": [
    "    n_cells = adata.X.shape[0]\n",
    "    n_genes = adata.X.shape[1]\n",
    "    indices_cells = np.random.choice(np.arange(n_cells), replace=False,\n",
    "                           size=int(n_cells * sample_cell))\n",
    "    indices_genes = np.random.choice(np.arange(n_genes), replace=False,\n",
    "                           size=int(n_genes * (1-sample_gene)))\n",
    "    test = adata.X.toarray()\n",
    "    mask = np.zeros(test.shape)\n",
    "    mask[indices_cells] = 1\n",
    "    mask[:, indices_genes] = 0\n",
    "    mask = mask.astype(bool)\n",
    "    test[mask] = 0\n",
    "    \n",
    "    adata_noise = adata.copy()\n",
    "    adata_noise.X = test"
   ]
  },
  {
   "cell_type": "code",
   "execution_count": 83,
   "id": "d1dfa371",
   "metadata": {},
   "outputs": [
    {
     "name": "stderr",
     "output_type": "stream",
     "text": [
      "Variable names are not unique. To make them unique, call `.var_names_make_unique`.\n"
     ]
    }
   ],
   "source": [
    "adata = adata_noise.copy()"
   ]
  },
  {
   "cell_type": "code",
   "execution_count": 84,
   "id": "8b75f1b0",
   "metadata": {},
   "outputs": [
    {
     "data": {
      "text/plain": [
       "True"
      ]
     },
     "execution_count": 84,
     "metadata": {},
     "output_type": "execute_result"
    }
   ],
   "source": [
    "adata.obs[\"x_array\"]=adata.obs[\"x2\"]\n",
    "adata.obs[\"y_array\"]=adata.obs[\"x3\"]\n",
    "adata.obs[\"x_pixel\"]=adata.obs[\"x4\"]\n",
    "adata.obs[\"y_pixel\"]=adata.obs[\"x5\"]\n",
    "x_array=adata.obs[\"x_array\"].tolist()\n",
    "y_array=adata.obs[\"y_array\"].tolist()\n",
    "x_pixel=adata.obs[\"x_pixel\"].tolist()\n",
    "y_pixel=adata.obs[\"y_pixel\"].tolist()\n",
    "\n",
    "#Test coordinates on the image\n",
    "img_new=img.copy()\n",
    "for i in range(len(x_pixel)):\n",
    "    x=x_pixel[i]\n",
    "    y=y_pixel[i]\n",
    "    img_new[int(x-20):int(x+20), int(y-20):int(y+20),:]=0\n",
    "\n",
    "cv2.imwrite('./mouse_brain_10x_noise.jpg', img_new)"
   ]
  },
  {
   "cell_type": "code",
   "execution_count": 85,
   "id": "f758243a",
   "metadata": {},
   "outputs": [
    {
     "name": "stdout",
     "output_type": "stream",
     "text": [
      "Calculateing adj matrix using histology image...\n",
      "Var of c0,c1,c2 =  12.487103939458287 106.75766298767053 43.90335715441911\n",
      "Var of x,y,z =  4666037.147723295 2934587.8010952845 4666037.147723297\n"
     ]
    }
   ],
   "source": [
    "s=1\n",
    "b=49\n",
    "adj=spg.calculate_adj_matrix(x=x_pixel,y=y_pixel, x_pixel=x_pixel, y_pixel=y_pixel, image=img, beta=b, alpha=s, histology=True)\n",
    "#If histlogy image is not available, SoaGCN can calculate the adjacent matrix using the fnction below\n",
    "#adj=calculate_adj_matrix(x=x_pixel,y=y_pixel, histology=False)\n",
    "np.savetxt('./mouse_brain_10x_adj_noise.csv', adj, delimiter=',')"
   ]
  },
  {
   "cell_type": "code",
   "execution_count": 86,
   "id": "749531e6",
   "metadata": {},
   "outputs": [],
   "source": [
    "adata.var_names_make_unique()\n",
    "spg.prefilter_genes(adata,min_cells=3) # avoiding all genes are zeros\n",
    "spg.prefilter_specialgenes(adata)\n",
    "#Normalize and take log for UMI\n",
    "sc.pp.normalize_per_cell(adata)\n",
    "sc.pp.log1p(adata)"
   ]
  },
  {
   "cell_type": "code",
   "execution_count": 87,
   "id": "034e6223",
   "metadata": {},
   "outputs": [
    {
     "name": "stdout",
     "output_type": "stream",
     "text": [
      "Run 1: l [0.01, 1000], p [0.0, 106.9199435206556]\n",
      "Run 2: l [0.01, 500.005], p [0.0, 17.28647232055664]\n",
      "Run 3: l [0.01, 250.0075], p [0.0, 2.399655818939209]\n",
      "Run 4: l [125.00874999999999, 250.0075], p [0.2849555015563965, 2.399655818939209]\n",
      "Run 5: l [125.00874999999999, 187.508125], p [0.2849555015563965, 1.0137228965759277]\n",
      "Run 6: l [125.00874999999999, 156.2584375], p [0.2849555015563965, 0.5789223909378052]\n",
      "Run 7: l [140.63359375, 156.2584375], p [0.4159437417984009, 0.5789223909378052]\n",
      "recommended l =  148.446015625\n"
     ]
    }
   ],
   "source": [
    "p=0.5 \n",
    "#Find the l value given p\n",
    "l=spg.search_l(p, adj, start=0.01, end=1000, tol=0.01, max_run=100)"
   ]
  },
  {
   "cell_type": "code",
   "execution_count": 88,
   "id": "0326fb40",
   "metadata": {},
   "outputs": [
    {
     "name": "stdout",
     "output_type": "stream",
     "text": [
      "Start at res =  0.7 step =  0.1\n",
      "Initializing cluster centers with louvain, resolution =  0.7\n",
      "Epoch  0\n",
      "Epoch  10\n",
      "Res =  0.7 Num of clusters =  12\n",
      "Initializing cluster centers with louvain, resolution =  0.7999999999999999\n",
      "Epoch  0\n",
      "Epoch  10\n",
      "Res =  0.7999999999999999 Num of clusters =  14\n",
      "Res changed to 0.7999999999999999\n",
      "Initializing cluster centers with louvain, resolution =  0.8999999999999999\n",
      "Epoch  0\n",
      "Epoch  10\n",
      "Res =  0.8999999999999999 Num of clusters =  18\n",
      "Res changed to 0.8999999999999999\n",
      "Initializing cluster centers with louvain, resolution =  0.9999999999999999\n",
      "Epoch  0\n",
      "Epoch  10\n",
      "Res =  0.9999999999999999 Num of clusters =  20\n",
      "Step changed to 0.05\n",
      "Initializing cluster centers with louvain, resolution =  0.95\n",
      "Epoch  0\n",
      "Epoch  10\n",
      "Res =  0.95 Num of clusters =  19\n",
      "recommended res =  0.95\n"
     ]
    }
   ],
   "source": [
    "#For this toy data, we set the number of clusters=7 since this tissue has 7 layers\n",
    "n_clusters=19\n",
    "#Set seed\n",
    "r_seed=t_seed=n_seed=100\n",
    "#Search for suitable resolution\n",
    "res=spg.search_res(adata, adj, l, n_clusters, start=0.7, step=0.1, tol=5e-3, lr=0.05, \n",
    "                   max_epochs=20, r_seed=r_seed, t_seed=t_seed, n_seed=n_seed)"
   ]
  },
  {
   "cell_type": "code",
   "execution_count": 89,
   "id": "4d9c61a8",
   "metadata": {},
   "outputs": [
    {
     "name": "stdout",
     "output_type": "stream",
     "text": [
      "Initializing cluster centers with louvain, resolution =  0.95\n",
      "Epoch  0\n",
      "Epoch  10\n",
      "Epoch  20\n",
      "Epoch  30\n",
      "delta_label  0.004818383988139363 < tol  0.005\n",
      "Reach tolerance threshold. Stopping training.\n",
      "Total epoch: 34\n",
      "Calculateing adj matrix using xy only...\n"
     ]
    }
   ],
   "source": [
    "clf=spg.SpaGCN()\n",
    "clf.set_l(l)\n",
    "#Set seed\n",
    "random.seed(r_seed)\n",
    "torch.manual_seed(t_seed)\n",
    "np.random.seed(n_seed)\n",
    "#Run\n",
    "clf.train(adata,adj,init_spa=True,init=\"louvain\",res=res, tol=5e-3, lr=0.05, max_epochs=200)\n",
    "y_pred, prob=clf.predict()\n",
    "adata.obs[\"pred\"]= y_pred\n",
    "adata.obs[\"pred\"]=adata.obs[\"pred\"].astype('category')\n",
    "#Do cluster refinement(optional)\n",
    "#shape=\"hexagon\" for Visium data, \"square\" for ST data.\n",
    "adj_2d=spg.calculate_adj_matrix(x=x_array,y=y_array, histology=False)\n",
    "refined_pred=spg.refine(sample_id=adata.obs.index.tolist(), pred=adata.obs[\"pred\"].tolist(), dis=adj_2d, shape=\"hexagon\")\n",
    "adata.obs[\"refined_pred\"]=refined_pred\n",
    "adata.obs[\"refined_pred\"]=adata.obs[\"refined_pred\"].astype('category')\n",
    "#Save results\n",
    "adata.write_h5ad(\"./mouse_brain_10x_results_noise.h5ad\")"
   ]
  },
  {
   "cell_type": "code",
   "execution_count": 92,
   "id": "7a97c409",
   "metadata": {},
   "outputs": [],
   "source": [
    "plot_color=[\"#F56867\",\"#FEB915\",\"#C798EE\",\"#59BE86\",\"#7495D3\",\"#D1D1D1\",\"#6D1A9C\",\"#15821E\",\"#3A84E6\",\"#997273\",\"#787878\",\"#DB4C6C\",\"#9E7A7A\",\"#554236\",\"#AF5F3C\",\"#93796C\",\"#F9BD3F\",\"#DAB370\",\"#877F6C\",\"#268785\"]\n",
    "#Plot spatial domains\n",
    "domains=\"pred\"\n",
    "num_celltype=len(adata.obs[domains].unique())\n",
    "adata.uns[domains+\"_colors\"]=list(plot_color[:num_celltype])\n",
    "ax=sc.pl.scatter(adata,alpha=1,x=\"y_pixel\",y=\"x_pixel\",color=domains,title=domains,color_map=plot_color,show=False,size=100000/adata.shape[0])\n",
    "ax.set_aspect('equal', 'box')\n",
    "ax.axes.invert_yaxis()\n",
    "plt.savefig(\"./mouse_brain_10x/pred_noise.png\", dpi=600)\n",
    "plt.close()\n",
    "plt.show()"
   ]
  },
  {
   "cell_type": "code",
   "execution_count": 93,
   "id": "a5dcfb69",
   "metadata": {},
   "outputs": [],
   "source": [
    "#Plot refined spatial domains\n",
    "domains=\"refined_pred\"\n",
    "num_celltype=len(adata.obs[domains].unique())\n",
    "adata.uns[domains+\"_colors\"]=list(plot_color[:num_celltype])\n",
    "ax=sc.pl.scatter(adata,alpha=1,x=\"y_pixel\",y=\"x_pixel\",color=domains,title=domains,color_map=plot_color,show=False,size=100000/adata.shape[0])\n",
    "ax.set_aspect('equal', 'box')\n",
    "ax.axes.invert_yaxis()\n",
    "plt.savefig(\"./mouse_brain_10x/refined_pred_noise.png\", dpi=600)\n",
    "plt.close()\n",
    "# plt.show()"
   ]
  },
  {
   "cell_type": "code",
   "execution_count": null,
   "id": "d25aef0c",
   "metadata": {},
   "outputs": [],
   "source": []
  },
  {
   "cell_type": "code",
   "execution_count": 2,
   "id": "c7a6f377",
   "metadata": {},
   "outputs": [
    {
     "name": "stderr",
     "output_type": "stream",
     "text": [
      "Variable names are not unique. To make them unique, call `.var_names_make_unique`.\n",
      "Variable names are not unique. To make them unique, call `.var_names_make_unique`.\n",
      "Variable names are not unique. To make them unique, call `.var_names_make_unique`.\n",
      "Variable names are not unique. To make them unique, call `.var_names_make_unique`.\n",
      "... storing 'feature_types' as categorical\n",
      "... storing 'genome' as categorical\n",
      "... storing 'genename' as categorical\n"
     ]
    }
   ],
   "source": [
    "BASE_PATH = Path(\"/home/uqxtan9/90days/Human_Brain_spatialLIBD/151507\")\n",
    "adata = read_10x_h5(BASE_PATH / \"151507_filtered_feature_bc_matrix.h5\")\n",
    "spatial=pd.read_csv(BASE_PATH / \"spatial/tissue_positions_list.txt\",sep=\",\",header=None,na_filter=False,index_col=0) \n",
    "adata.obs[\"x1\"]=spatial[1]\n",
    "adata.obs[\"x2\"]=spatial[2]\n",
    "adata.obs[\"x3\"]=spatial[3]\n",
    "adata.obs[\"x4\"]=spatial[4]\n",
    "adata.obs[\"x5\"]=spatial[5]\n",
    "#Select captured samples\n",
    "adata=adata[adata.obs[\"x1\"]==1]\n",
    "adata.var_names=[i.upper() for i in list(adata.var_names)]\n",
    "adata.var[\"genename\"]=adata.var.index.astype(\"str\")\n",
    "adata.write_h5ad(\"./151507.h5ad\")"
   ]
  },
  {
   "cell_type": "code",
   "execution_count": 3,
   "id": "cd2fdb8f",
   "metadata": {},
   "outputs": [],
   "source": [
    "img=cv2.imread(str(BASE_PATH / \"151507_full_image.tif\"))"
   ]
  },
  {
   "cell_type": "code",
   "execution_count": 4,
   "id": "36b0b142",
   "metadata": {},
   "outputs": [
    {
     "data": {
      "text/plain": [
       "True"
      ]
     },
     "execution_count": 4,
     "metadata": {},
     "output_type": "execute_result"
    }
   ],
   "source": [
    "adata.obs[\"x_array\"]=adata.obs[\"x2\"]\n",
    "adata.obs[\"y_array\"]=adata.obs[\"x3\"]\n",
    "adata.obs[\"x_pixel\"]=adata.obs[\"x4\"]\n",
    "adata.obs[\"y_pixel\"]=adata.obs[\"x5\"]\n",
    "x_array=adata.obs[\"x_array\"].tolist()\n",
    "y_array=adata.obs[\"y_array\"].tolist()\n",
    "x_pixel=adata.obs[\"x_pixel\"].tolist()\n",
    "y_pixel=adata.obs[\"y_pixel\"].tolist()\n",
    "\n",
    "#Test coordinates on the image\n",
    "img_new=img.copy()\n",
    "for i in range(len(x_pixel)):\n",
    "    x=x_pixel[i]\n",
    "    y=y_pixel[i]\n",
    "    img_new[int(x-20):int(x+20), int(y-20):int(y+20),:]=0\n",
    "\n",
    "cv2.imwrite('./151507_full_image.jpg', img_new)"
   ]
  },
  {
   "cell_type": "code",
   "execution_count": 5,
   "id": "efc8830c",
   "metadata": {},
   "outputs": [
    {
     "name": "stdout",
     "output_type": "stream",
     "text": [
      "Calculateing adj matrix using histology image...\n",
      "Var of c0,c1,c2 =  29.477233022425033 134.30750047472108 40.144995243818755\n",
      "Var of x,y,z =  6252621.155503006 5320894.161992535 6252621.155503008\n"
     ]
    }
   ],
   "source": [
    "s=1\n",
    "b=49\n",
    "adj=spg.calculate_adj_matrix(x=x_pixel,y=y_pixel, x_pixel=x_pixel, y_pixel=y_pixel, image=img, beta=b, alpha=s, histology=True)\n",
    "#If histlogy image is not available, SoaGCN can calculate the adjacent matrix using the fnction below\n",
    "#adj=calculate_adj_matrix(x=x_pixel,y=y_pixel, histology=False)\n",
    "np.savetxt('./151507_adj.csv', adj, delimiter=',')"
   ]
  },
  {
   "cell_type": "code",
   "execution_count": 6,
   "id": "bd1f69bf",
   "metadata": {},
   "outputs": [],
   "source": [
    "adata.var_names_make_unique()\n",
    "spg.prefilter_genes(adata,min_cells=3) # avoiding all genes are zeros\n",
    "spg.prefilter_specialgenes(adata)\n",
    "#Normalize and take log for UMI\n",
    "sc.pp.normalize_per_cell(adata)\n",
    "sc.pp.log1p(adata)"
   ]
  },
  {
   "cell_type": "code",
   "execution_count": 7,
   "id": "3eea1dfe",
   "metadata": {},
   "outputs": [
    {
     "name": "stdout",
     "output_type": "stream",
     "text": [
      "Run 1: l [0.01, 1000], p [0.0, 148.15217311031813]\n",
      "Run 2: l [0.01, 500.005], p [0.0, 25.904523849487305]\n",
      "Run 3: l [0.01, 250.0075], p [0.0, 3.798725128173828]\n",
      "Run 4: l [125.00874999999999, 250.0075], p [0.4550950527191162, 3.798725128173828]\n",
      "Run 5: l [125.00874999999999, 187.508125], p [0.4550950527191162, 1.628591537475586]\n",
      "Run 6: l [125.00874999999999, 156.2584375], p [0.4550950527191162, 0.9323179721832275]\n",
      "Run 7: l [125.00874999999999, 140.63359375], p [0.4550950527191162, 0.6683287620544434]\n",
      "Run 8: l [125.00874999999999, 132.821171875], p [0.4550950527191162, 0.5556210279464722]\n",
      "recommended l =  128.91496093749998\n"
     ]
    }
   ],
   "source": [
    "p=0.5 \n",
    "#Find the l value given p\n",
    "l=spg.search_l(p, adj, start=0.01, end=1000, tol=0.01, max_run=100)"
   ]
  },
  {
   "cell_type": "code",
   "execution_count": 8,
   "id": "0dc075b9",
   "metadata": {},
   "outputs": [
    {
     "name": "stdout",
     "output_type": "stream",
     "text": [
      "Start at res =  0.7 step =  0.1\n",
      "Initializing cluster centers with louvain, resolution =  0.7\n",
      "Epoch  0\n",
      "Epoch  10\n",
      "Res =  0.7 Num of clusters =  6\n",
      "Initializing cluster centers with louvain, resolution =  0.7999999999999999\n",
      "Epoch  0\n",
      "Epoch  10\n",
      "Res =  0.7999999999999999 Num of clusters =  7\n",
      "recommended res =  0.7999999999999999\n"
     ]
    }
   ],
   "source": [
    "#For this toy data, we set the number of clusters=7 since this tissue has 7 layers\n",
    "n_clusters=7\n",
    "#Set seed\n",
    "r_seed=t_seed=n_seed=100\n",
    "#Search for suitable resolution\n",
    "res=spg.search_res(adata, adj, l, n_clusters, start=0.7, step=0.1, tol=5e-3, lr=0.05, \n",
    "                   max_epochs=20, r_seed=r_seed, t_seed=t_seed, n_seed=n_seed)"
   ]
  },
  {
   "cell_type": "code",
   "execution_count": 9,
   "id": "846068be",
   "metadata": {},
   "outputs": [
    {
     "name": "stdout",
     "output_type": "stream",
     "text": [
      "Initializing cluster centers with louvain, resolution =  0.7999999999999999\n",
      "Epoch  0\n",
      "Epoch  10\n",
      "Epoch  20\n",
      "Epoch  30\n",
      "Epoch  40\n",
      "Epoch  50\n",
      "Epoch  60\n",
      "delta_label  0.0044959772834831995 < tol  0.005\n",
      "Reach tolerance threshold. Stopping training.\n",
      "Total epoch: 64\n",
      "Calculateing adj matrix using xy only...\n"
     ]
    }
   ],
   "source": [
    "clf=spg.SpaGCN()\n",
    "clf.set_l(l)\n",
    "#Set seed\n",
    "random.seed(r_seed)\n",
    "torch.manual_seed(t_seed)\n",
    "np.random.seed(n_seed)\n",
    "#Run\n",
    "clf.train(adata,adj,init_spa=True,init=\"louvain\",res=res, tol=5e-3, lr=0.05, max_epochs=200)\n",
    "y_pred, prob=clf.predict()\n",
    "adata.obs[\"pred\"]= y_pred\n",
    "adata.obs[\"pred\"]=adata.obs[\"pred\"].astype('category')\n",
    "#Do cluster refinement(optional)\n",
    "#shape=\"hexagon\" for Visium data, \"square\" for ST data.\n",
    "adj_2d=spg.calculate_adj_matrix(x=x_array,y=y_array, histology=False)\n",
    "refined_pred=spg.refine(sample_id=adata.obs.index.tolist(), pred=adata.obs[\"pred\"].tolist(), dis=adj_2d, shape=\"hexagon\")\n",
    "adata.obs[\"refined_pred\"]=refined_pred\n",
    "adata.obs[\"refined_pred\"]=adata.obs[\"refined_pred\"].astype('category')\n",
    "#Save results\n",
    "adata.write_h5ad(\"./151507_results.h5ad\")"
   ]
  },
  {
   "cell_type": "code",
   "execution_count": 12,
   "id": "65ac9bd2",
   "metadata": {},
   "outputs": [],
   "source": [
    "plot_color=[\"#F56867\",\"#FEB915\",\"#C798EE\",\"#59BE86\",\"#7495D3\",\"#D1D1D1\",\"#6D1A9C\",\"#15821E\",\"#3A84E6\",\"#997273\",\"#787878\",\"#DB4C6C\",\"#9E7A7A\",\"#554236\",\"#AF5F3C\",\"#93796C\",\"#F9BD3F\",\"#DAB370\",\"#877F6C\",\"#268785\"]\n",
    "#Plot spatial domains\n",
    "domains=\"pred\"\n",
    "num_celltype=len(adata.obs[domains].unique())\n",
    "adata.uns[domains+\"_colors\"]=list(plot_color[:num_celltype])\n",
    "ax=sc.pl.scatter(adata,alpha=1,x=\"y_pixel\",y=\"x_pixel\",color=domains,title=domains,color_map=plot_color,show=False,size=100000/adata.shape[0])\n",
    "ax.set_aspect('equal', 'box')\n",
    "ax.axes.invert_yaxis()\n",
    "plt.savefig(\"./151507/pred.png\", dpi=600)\n",
    "plt.close()\n",
    "plt.show()"
   ]
  },
  {
   "cell_type": "code",
   "execution_count": 13,
   "id": "889b860a",
   "metadata": {},
   "outputs": [],
   "source": [
    "#Plot refined spatial domains\n",
    "domains=\"refined_pred\"\n",
    "num_celltype=len(adata.obs[domains].unique())\n",
    "adata.uns[domains+\"_colors\"]=list(plot_color[:num_celltype])\n",
    "ax=sc.pl.scatter(adata,alpha=1,x=\"y_pixel\",y=\"x_pixel\",color=domains,title=domains,color_map=plot_color,show=False,size=100000/adata.shape[0])\n",
    "ax.set_aspect('equal', 'box')\n",
    "ax.axes.invert_yaxis()\n",
    "plt.savefig(\"./151507/refined_pred.png\", dpi=600)\n",
    "plt.close()\n",
    "plt.show()"
   ]
  },
  {
   "cell_type": "code",
   "execution_count": null,
   "id": "187d3eee",
   "metadata": {},
   "outputs": [],
   "source": []
  }
 ],
 "metadata": {
  "kernelspec": {
   "display_name": "Python 3 (ipykernel)",
   "language": "python",
   "name": "python3"
  },
  "language_info": {
   "codemirror_mode": {
    "name": "ipython",
    "version": 3
   },
   "file_extension": ".py",
   "mimetype": "text/x-python",
   "name": "python",
   "nbconvert_exporter": "python",
   "pygments_lexer": "ipython3",
   "version": "3.8.12"
  }
 },
 "nbformat": 4,
 "nbformat_minor": 5
}
