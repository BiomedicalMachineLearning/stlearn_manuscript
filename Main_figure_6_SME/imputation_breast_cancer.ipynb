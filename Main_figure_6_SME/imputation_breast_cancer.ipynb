{
 "cells": [
  {
   "cell_type": "code",
   "execution_count": 1,
   "metadata": {},
   "outputs": [],
   "source": [
    "import stlearn as st\n",
    "from pathlib import Path\n",
    "import scanpy as sc\n",
    "st.settings.set_figure_params(dpi=300)\n",
    "import matplotlib.pyplot as plt \n",
    "import pandas as pd\n",
    "import anndata"
   ]
  },
  {
   "cell_type": "code",
   "execution_count": 2,
   "metadata": {},
   "outputs": [],
   "source": [
    "from anndata import AnnData\n",
    "from typing import Optional\n",
    "def merge(\n",
    "        adata1: AnnData,\n",
    "        adata2: AnnData,\n",
    "        copy: bool = True,\n",
    "\n",
    ") -> Optional[AnnData]:\n",
    "    merged_df = adata1.to_df().append(adata2.to_df())\n",
    "    merged_df_obs = adata1.obs.append(adata2.obs)\n",
    "    merged_adata = AnnData(merged_df, obs=merged_df_obs)\n",
    "    merged_adata.uns[\"spatial\"] = adata1.uns[\"spatial\"]\n",
    "    \n",
    "    return merged_adata if copy else None"
   ]
  },
  {
   "cell_type": "code",
   "execution_count": 3,
   "metadata": {},
   "outputs": [],
   "source": [
    "BASE_PATH = Path(\"/scratch/90days/uqxtan9\")\n",
    "TILE_PATH = Path(\"/tmp/tiles\")\n",
    "TILE_PATH.mkdir(parents=True, exist_ok=True)"
   ]
  },
  {
   "cell_type": "code",
   "execution_count": 4,
   "metadata": {},
   "outputs": [],
   "source": [
    "OUT_PATH = Path(\"/scratch/90days/uqxtan9/stlearn_revision2/imputation_bc\")\n",
    "OUT_PATH.mkdir(parents=True, exist_ok=True)"
   ]
  },
  {
   "cell_type": "code",
   "execution_count": 28,
   "metadata": {},
   "outputs": [
    {
     "name": "stderr",
     "output_type": "stream",
     "text": [
      "Variable names are not unique. To make them unique, call `.var_names_make_unique`.\n",
      "Variable names are not unique. To make them unique, call `.var_names_make_unique`.\n"
     ]
    }
   ],
   "source": [
    "SAMPLE = \"block1\"\n",
    "Sample1 = st.Read10X(BASE_PATH / \"breast_cancer_10x\", \n",
    "                     library_id=SAMPLE,\n",
    "                     quality=\"fulres\",)\n",
    "img = plt.imread(BASE_PATH / \"breast_cancer_10x\" /\"V1_Breast_Cancer_Block_A_Section_1_image.tif\", 0)\n",
    "Sample1.uns[\"spatial\"][SAMPLE]['images'][\"fulres\"] = img"
   ]
  },
  {
   "cell_type": "code",
   "execution_count": 29,
   "metadata": {},
   "outputs": [
    {
     "name": "stderr",
     "output_type": "stream",
     "text": [
      "Variable names are not unique. To make them unique, call `.var_names_make_unique`.\n",
      "Variable names are not unique. To make them unique, call `.var_names_make_unique`.\n"
     ]
    }
   ],
   "source": [
    "SAMPLE = \"block2\"\n",
    "Sample2 = st.Read10X(BASE_PATH / \"breast_cancer_2_10x\", \n",
    "                     library_id=SAMPLE,\n",
    "                     quality=\"fulres\",)\n",
    "img = plt.imread(BASE_PATH / \"breast_cancer_2_10x\" /\"V1_Breast_Cancer_Block_A_Section_2_image.tif\", 0)\n",
    "Sample2.uns[\"spatial\"][SAMPLE]['images'][\"fulres\"] = img"
   ]
  },
  {
   "cell_type": "code",
   "execution_count": 30,
   "metadata": {},
   "outputs": [
    {
     "name": "stdout",
     "output_type": "stream",
     "text": [
      "Normalization step is finished in adata.X\n",
      "Log transformation step is finished in adata.X\n",
      "PCA is done! Generated in adata.obsm['X_pca'], adata.uns['pca'] and adata.varm['PCs']\n",
      "Normalization step is finished in adata.X\n",
      "Log transformation step is finished in adata.X\n",
      "PCA is done! Generated in adata.obsm['X_pca'], adata.uns['pca'] and adata.varm['PCs']\n"
     ]
    }
   ],
   "source": [
    "for andata in [\n",
    "    Sample1, \n",
    "    Sample2\n",
    "]:\n",
    "    st.pp.filter_genes(andata,min_cells=3)\n",
    "    st.pp.normalize_total(andata)\n",
    "    st.pp.log1p(andata)\n",
    "#     st.pp.scale(andata)\n",
    "    st.em.run_pca(andata,n_comps=50)\n",
    "#     TILE_PATH_ = TILE_PATH / list(Sample1.uns[\"spatial\"].keys())[0]\n",
    "#     st.pp.tiling(andata, TILE_PATH_, crop_size=299)\n",
    "#     st.pp.extract_feature(andata)\n",
    "#     st.spatial.SME.SME_normalize(andata, use_data=\"raw\")"
   ]
  },
  {
   "cell_type": "code",
   "execution_count": 23,
   "metadata": {},
   "outputs": [
    {
     "name": "stdout",
     "output_type": "stream",
     "text": [
      "Scale step is finished in adata.X\n",
      "PCA is done! Generated in adata.obsm['X_pca'], adata.uns['pca'] and adata.varm['PCs']\n"
     ]
    }
   ],
   "source": [
    "Sample1_SME = Sample1.copy()\n",
    "Sample1_SME.X = Sample1_SME.obsm['raw_SME_normalized']\n",
    "st.pp.scale(Sample1_SME)\n",
    "st.em.run_pca(Sample1_SME,n_comps=50)"
   ]
  },
  {
   "cell_type": "code",
   "execution_count": null,
   "metadata": {},
   "outputs": [],
   "source": [
    "Sample2_SME = Sample2.copy()\n",
    "Sample2_SME.X = Sample2_SME.obsm['raw_SME_normalized']\n",
    "st.pp.scale(Sample2_SME)\n",
    "st.em.run_pca(Sample2_SME,n_comps=50)"
   ]
  },
  {
   "cell_type": "code",
   "execution_count": 1,
   "metadata": {},
   "outputs": [],
   "source": [
    "# # louvain clustering on stSME normalised data\n",
    "# st.pp.neighbors(Sample1_SME,n_neighbors=35,use_rep='X_pca')\n",
    "# st.tl.clustering.louvain(Sample1_SME, resolution=1.2)\n",
    "# st.pl.cluster_plot(Sample1_SME,use_label=\"louvain\")"
   ]
  },
  {
   "cell_type": "code",
   "execution_count": 18,
   "metadata": {},
   "outputs": [],
   "source": [
    "df = pd.read_csv(\"./bc_clusters.csv\", index_col=0)"
   ]
  },
  {
   "cell_type": "code",
   "execution_count": 19,
   "metadata": {},
   "outputs": [
    {
     "data": {
      "text/html": [
       "<div>\n",
       "<style scoped>\n",
       "    .dataframe tbody tr th:only-of-type {\n",
       "        vertical-align: middle;\n",
       "    }\n",
       "\n",
       "    .dataframe tbody tr th {\n",
       "        vertical-align: top;\n",
       "    }\n",
       "\n",
       "    .dataframe thead th {\n",
       "        text-align: right;\n",
       "    }\n",
       "</style>\n",
       "<table border=\"1\" class=\"dataframe\">\n",
       "  <thead>\n",
       "    <tr style=\"text-align: right;\">\n",
       "      <th></th>\n",
       "      <th>in_tissue</th>\n",
       "      <th>array_row</th>\n",
       "      <th>array_col</th>\n",
       "      <th>sum_counts</th>\n",
       "      <th>imagecol</th>\n",
       "      <th>imagerow</th>\n",
       "      <th>tile_path</th>\n",
       "      <th>louvain</th>\n",
       "    </tr>\n",
       "  </thead>\n",
       "  <tbody>\n",
       "    <tr>\n",
       "      <th>AAACAAGTATCTCCCA-1</th>\n",
       "      <td>1</td>\n",
       "      <td>50</td>\n",
       "      <td>102</td>\n",
       "      <td>12072.0</td>\n",
       "      <td>1437.953781</td>\n",
       "      <td>1314.933980</td>\n",
       "      <td>/tmp/tiles/Sampel1/1437.9537810000002-1314.933...</td>\n",
       "      <td>0</td>\n",
       "    </tr>\n",
       "    <tr>\n",
       "      <th>AAACACCAATAACTGC-1</th>\n",
       "      <td>1</td>\n",
       "      <td>59</td>\n",
       "      <td>19</td>\n",
       "      <td>54083.0</td>\n",
       "      <td>502.640259</td>\n",
       "      <td>1489.603946</td>\n",
       "      <td>/tmp/tiles/Sampel1/502.640259-1489.6039455-40....</td>\n",
       "      <td>1</td>\n",
       "    </tr>\n",
       "    <tr>\n",
       "      <th>AAACAGAGCGACTCCT-1</th>\n",
       "      <td>1</td>\n",
       "      <td>14</td>\n",
       "      <td>94</td>\n",
       "      <td>4237.0</td>\n",
       "      <td>1349.092396</td>\n",
       "      <td>609.158410</td>\n",
       "      <td>/tmp/tiles/Sampel1/1349.0923957500002-609.1584...</td>\n",
       "      <td>4</td>\n",
       "    </tr>\n",
       "    <tr>\n",
       "      <th>AAACAGGGTCTATATT-1</th>\n",
       "      <td>1</td>\n",
       "      <td>47</td>\n",
       "      <td>13</td>\n",
       "      <td>22649.0</td>\n",
       "      <td>435.478543</td>\n",
       "      <td>1254.290416</td>\n",
       "      <td>/tmp/tiles/Sampel1/435.4785435-1254.2904165-40...</td>\n",
       "      <td>0</td>\n",
       "    </tr>\n",
       "    <tr>\n",
       "      <th>AAACAGTGTTCCTGGG-1</th>\n",
       "      <td>1</td>\n",
       "      <td>73</td>\n",
       "      <td>43</td>\n",
       "      <td>51367.0</td>\n",
       "      <td>772.524745</td>\n",
       "      <td>1764.521435</td>\n",
       "      <td>/tmp/tiles/Sampel1/772.5247447500001-1764.5214...</td>\n",
       "      <td>1</td>\n",
       "    </tr>\n",
       "    <tr>\n",
       "      <th>...</th>\n",
       "      <td>...</td>\n",
       "      <td>...</td>\n",
       "      <td>...</td>\n",
       "      <td>...</td>\n",
       "      <td>...</td>\n",
       "      <td>...</td>\n",
       "      <td>...</td>\n",
       "      <td>...</td>\n",
       "    </tr>\n",
       "    <tr>\n",
       "      <th>TTGTTGTGTGTCAAGA-1</th>\n",
       "      <td>1</td>\n",
       "      <td>31</td>\n",
       "      <td>77</td>\n",
       "      <td>19123.0</td>\n",
       "      <td>1157.013190</td>\n",
       "      <td>941.996690</td>\n",
       "      <td>/tmp/tiles/Sampel1/1157.01318975-941.99669025-...</td>\n",
       "      <td>9</td>\n",
       "    </tr>\n",
       "    <tr>\n",
       "      <th>TTGTTTCACATCCAGG-1</th>\n",
       "      <td>1</td>\n",
       "      <td>58</td>\n",
       "      <td>42</td>\n",
       "      <td>20750.0</td>\n",
       "      <td>761.798672</td>\n",
       "      <td>1470.462032</td>\n",
       "      <td>/tmp/tiles/Sampel1/761.7986722500001-1470.4620...</td>\n",
       "      <td>1</td>\n",
       "    </tr>\n",
       "    <tr>\n",
       "      <th>TTGTTTCATTAGTCTA-1</th>\n",
       "      <td>1</td>\n",
       "      <td>60</td>\n",
       "      <td>30</td>\n",
       "      <td>33065.0</td>\n",
       "      <td>626.485142</td>\n",
       "      <td>1509.405926</td>\n",
       "      <td>/tmp/tiles/Sampel1/626.4851422500001-1509.4059...</td>\n",
       "      <td>1</td>\n",
       "    </tr>\n",
       "    <tr>\n",
       "      <th>TTGTTTCCATACAACT-1</th>\n",
       "      <td>1</td>\n",
       "      <td>45</td>\n",
       "      <td>27</td>\n",
       "      <td>18630.0</td>\n",
       "      <td>593.234318</td>\n",
       "      <td>1215.346522</td>\n",
       "      <td>/tmp/tiles/Sampel1/593.2343175000001-1215.3465...</td>\n",
       "      <td>0</td>\n",
       "    </tr>\n",
       "    <tr>\n",
       "      <th>TTGTTTGTGTAAATTC-1</th>\n",
       "      <td>1</td>\n",
       "      <td>7</td>\n",
       "      <td>51</td>\n",
       "      <td>12032.0</td>\n",
       "      <td>865.016493</td>\n",
       "      <td>471.039599</td>\n",
       "      <td>/tmp/tiles/Sampel1/865.0164930000001-471.03959...</td>\n",
       "      <td>6</td>\n",
       "    </tr>\n",
       "  </tbody>\n",
       "</table>\n",
       "<p>3798 rows × 8 columns</p>\n",
       "</div>"
      ],
      "text/plain": [
       "                    in_tissue  array_row  array_col  sum_counts     imagecol  \\\n",
       "AAACAAGTATCTCCCA-1          1         50        102     12072.0  1437.953781   \n",
       "AAACACCAATAACTGC-1          1         59         19     54083.0   502.640259   \n",
       "AAACAGAGCGACTCCT-1          1         14         94      4237.0  1349.092396   \n",
       "AAACAGGGTCTATATT-1          1         47         13     22649.0   435.478543   \n",
       "AAACAGTGTTCCTGGG-1          1         73         43     51367.0   772.524745   \n",
       "...                       ...        ...        ...         ...          ...   \n",
       "TTGTTGTGTGTCAAGA-1          1         31         77     19123.0  1157.013190   \n",
       "TTGTTTCACATCCAGG-1          1         58         42     20750.0   761.798672   \n",
       "TTGTTTCATTAGTCTA-1          1         60         30     33065.0   626.485142   \n",
       "TTGTTTCCATACAACT-1          1         45         27     18630.0   593.234318   \n",
       "TTGTTTGTGTAAATTC-1          1          7         51     12032.0   865.016493   \n",
       "\n",
       "                       imagerow  \\\n",
       "AAACAAGTATCTCCCA-1  1314.933980   \n",
       "AAACACCAATAACTGC-1  1489.603946   \n",
       "AAACAGAGCGACTCCT-1   609.158410   \n",
       "AAACAGGGTCTATATT-1  1254.290416   \n",
       "AAACAGTGTTCCTGGG-1  1764.521435   \n",
       "...                         ...   \n",
       "TTGTTGTGTGTCAAGA-1   941.996690   \n",
       "TTGTTTCACATCCAGG-1  1470.462032   \n",
       "TTGTTTCATTAGTCTA-1  1509.405926   \n",
       "TTGTTTCCATACAACT-1  1215.346522   \n",
       "TTGTTTGTGTAAATTC-1   471.039599   \n",
       "\n",
       "                                                            tile_path  louvain  \n",
       "AAACAAGTATCTCCCA-1  /tmp/tiles/Sampel1/1437.9537810000002-1314.933...        0  \n",
       "AAACACCAATAACTGC-1  /tmp/tiles/Sampel1/502.640259-1489.6039455-40....        1  \n",
       "AAACAGAGCGACTCCT-1  /tmp/tiles/Sampel1/1349.0923957500002-609.1584...        4  \n",
       "AAACAGGGTCTATATT-1  /tmp/tiles/Sampel1/435.4785435-1254.2904165-40...        0  \n",
       "AAACAGTGTTCCTGGG-1  /tmp/tiles/Sampel1/772.5247447500001-1764.5214...        1  \n",
       "...                                                               ...      ...  \n",
       "TTGTTGTGTGTCAAGA-1  /tmp/tiles/Sampel1/1157.01318975-941.99669025-...        9  \n",
       "TTGTTTCACATCCAGG-1  /tmp/tiles/Sampel1/761.7986722500001-1470.4620...        1  \n",
       "TTGTTTCATTAGTCTA-1  /tmp/tiles/Sampel1/626.4851422500001-1509.4059...        1  \n",
       "TTGTTTCCATACAACT-1  /tmp/tiles/Sampel1/593.2343175000001-1215.3465...        0  \n",
       "TTGTTTGTGTAAATTC-1  /tmp/tiles/Sampel1/865.0164930000001-471.03959...        6  \n",
       "\n",
       "[3798 rows x 8 columns]"
      ]
     },
     "execution_count": 19,
     "metadata": {},
     "output_type": "execute_result"
    }
   ],
   "source": [
    "df"
   ]
  },
  {
   "cell_type": "code",
   "execution_count": 21,
   "metadata": {},
   "outputs": [],
   "source": [
    "Sample1.obs[\"louvain\"] = df[\"louvain\"]"
   ]
  },
  {
   "cell_type": "code",
   "execution_count": 2,
   "metadata": {},
   "outputs": [],
   "source": [
    "# st.pl.cluster_plot(Sample1_SME,use_label=\"louvain_\", spot_size=6.5,\n",
    "#                    output=str(OUT_PATH), name=\"Sample1_clustering.pdf\")"
   ]
  },
  {
   "cell_type": "code",
   "execution_count": 17,
   "metadata": {},
   "outputs": [
    {
     "name": "stderr",
     "output_type": "stream",
     "text": [
      "Tiling image: 100%|██████████ [ time left: 00:00 ]\n",
      "Extract feature: 100%|██████████ [ time left: 00:00 ]  \n"
     ]
    },
    {
     "name": "stdout",
     "output_type": "stream",
     "text": [
      "The morphology feature is added to adata.obsm['X_morphology']!\n"
     ]
    },
    {
     "name": "stderr",
     "output_type": "stream",
     "text": [
      "Adjusting data: 100%|██████████ [ time left: 00:00 ]\n",
      "/home/uqxtan9/90days/.conda/envs/stlearn/lib/python3.8/site-packages/anndata/_core/anndata.py:1094: FutureWarning: is_categorical is deprecated and will be removed in a future version.  Use is_categorical_dtype instead\n",
      "  if not is_categorical(df_full[k]):\n"
     ]
    },
    {
     "name": "stdout",
     "output_type": "stream",
     "text": [
      "Done\n"
     ]
    }
   ],
   "source": [
    "Sample1_ps = st.spatial.SME.pseudo_spot(Sample1,crop_size=299, \n",
    "                                        tile_path=TILE_PATH / list(Sample1.uns[\"spatial\"].keys())[0] / \"p_spot\")\n",
    "st.em.run_pca(Sample1_ps,n_comps=50)"
   ]
  },
  {
   "cell_type": "code",
   "execution_count": null,
   "metadata": {},
   "outputs": [],
   "source": [
    "Sample2_ps = st.spatial.SME.pseudo_spot(Sample2,crop_size=299, \n",
    "                                        tile_path=TILE_PATH / list(Sample1.uns[\"spatial\"].keys())[0] / \"p_spot\")\n",
    "st.em.run_pca(Sample2_ps,n_comps=50)"
   ]
  },
  {
   "cell_type": "code",
   "execution_count": 3,
   "metadata": {},
   "outputs": [],
   "source": [
    "# # K-means clustering on stSME normalised PCA\n",
    "# st.tl.clustering.kmeans(Sample1_ps,n_clusters=11, use_data=\"X_pca\", \n",
    "#                         key_added=\"X_pca_kmeans\")\n",
    "# st.pl.cluster_plot(Sample1_ps, use_label=\"X_pca_kmeans\", spot_size=3)"
   ]
  },
  {
   "cell_type": "code",
   "execution_count": 4,
   "metadata": {},
   "outputs": [],
   "source": [
    "# st.pp.neighbors(Sample1_ps,n_neighbors=30,use_rep='X_pca')\n",
    "# st.tl.clustering.louvain(Sample1_ps, resolution=0.5)\n",
    "# st.pl.cluster_plot(Sample1_ps,use_label=\"louvain\", spot_size=1.5,\n",
    "#                    output=str(OUT_PATH), name=\"ps_impute_clustering_zoom.pdf\")"
   ]
  },
  {
   "cell_type": "code",
   "execution_count": 20,
   "metadata": {},
   "outputs": [],
   "source": [
    "all_adata = merge(Sample1_ps, Sample1)"
   ]
  },
  {
   "cell_type": "code",
   "execution_count": 21,
   "metadata": {},
   "outputs": [
    {
     "name": "stdout",
     "output_type": "stream",
     "text": [
      "PCA is done! Generated in adata.obsm['X_pca'], adata.uns['pca'] and adata.varm['PCs']\n"
     ]
    }
   ],
   "source": [
    "st.em.run_pca(all_adata,n_comps=50)"
   ]
  },
  {
   "cell_type": "code",
   "execution_count": 5,
   "metadata": {},
   "outputs": [],
   "source": [
    "# # K-means clustering on stSME normalised PCA\n",
    "# st.tl.clustering.kmeans(all_adata,n_clusters=11, use_data=\"X_pca\", \n",
    "#                         key_added=\"X_pca_kmeans\")\n",
    "# st.pl.cluster_plot(all_adata, use_label=\"X_pca_kmeans\", spot_size=3)"
   ]
  },
  {
   "cell_type": "code",
   "execution_count": 6,
   "metadata": {},
   "outputs": [],
   "source": [
    "# st.pp.neighbors(all_adata,n_neighbors=35,use_rep='X_pca')\n",
    "# st.tl.clustering.louvain(all_adata, resolution=0.6)\n",
    "# st.pl.cluster_plot(all_adata,use_label=\"louvain\", spot_size=1.5,\n",
    "#                    output=str(OUT_PATH), name=\"ps_all_clustering_zoom.pdf\")"
   ]
  },
  {
   "cell_type": "code",
   "execution_count": 24,
   "metadata": {},
   "outputs": [
    {
     "name": "stderr",
     "output_type": "stream",
     "text": [
      "Extract feature: 100%|██████████ [ time left: 00:00 ]  \n"
     ]
    },
    {
     "name": "stdout",
     "output_type": "stream",
     "text": [
      "The morphology feature is added to adata.obsm['X_morphology']!\n"
     ]
    }
   ],
   "source": [
    "st.pp.extract_feature(all_adata)"
   ]
  },
  {
   "cell_type": "code",
   "execution_count": 7,
   "metadata": {},
   "outputs": [],
   "source": [
    "#     st.tl.clustering.kmeans(all_adata,n_clusters=11, use_data=\"X_morphology\", \n",
    "#                         key_added=\"X_tile_feature_kmeans\")\n",
    "#     st.pl.cluster_plot(all_adata, use_label=\"X_tile_feature_kmeans\", spot_size=3)"
   ]
  },
  {
   "cell_type": "code",
   "execution_count": 8,
   "metadata": {
    "scrolled": false
   },
   "outputs": [],
   "source": [
    "# # for i in range(2,11):\n",
    "# #     print(i)\n",
    "#     # K-means clustering on stSME normalised PCA\n",
    "# st.tl.clustering.kmeans(all_adata,n_clusters=11, use_data=\"X_morphology\", \n",
    "#                         key_added=\"X_tile_feature_kmeans\")\n",
    "# st.pl.cluster_plot(all_adata, use_label=\"X_tile_feature_kmeans\", spot_size=3)"
   ]
  },
  {
   "cell_type": "code",
   "execution_count": 9,
   "metadata": {
    "scrolled": false
   },
   "outputs": [],
   "source": [
    "# # for i in range(10,35,5):\n",
    "# #     print(i)\n",
    "# # st.pp.neighbors(all_adata,n_neighbors=35,use_rep='X_morphology')\n",
    "# # st.tl.clustering.louvain(all_adata, resolution=0.7)\n",
    "# st.pl.cluster_plot(all_adata,use_label=\"louvain\", spot_size=3, output=str(OUT_PATH), name=\"ps_image_clustering.pdf\")"
   ]
  },
  {
   "cell_type": "code",
   "execution_count": 10,
   "metadata": {},
   "outputs": [],
   "source": [
    "# st.pp.neighbors(Sample1,n_neighbors=15,use_rep='X_morphology')\n",
    "# st.tl.clustering.louvain(Sample1, resolution=0.8)\n",
    "# st.pl.cluster_plot(Sample1,use_label=\"louvain\", spot_size=6.5, \n",
    "#                    output=str(OUT_PATH), name=\"Sample1_image_clustering.pdf\")"
   ]
  },
  {
   "cell_type": "code",
   "execution_count": 26,
   "metadata": {},
   "outputs": [
    {
     "data": {
      "text/plain": [
       "AnnData object with n_obs × n_vars = 11157 × 22240\n",
       "    obs: 'level_0', 'index', 'array_row', 'array_col', 'imagerow', 'imagecol', 'n_neighbour', 'tile_path', 'X_pca_kmeans', 'in_tissue', 'sum_counts', 'louvain', 'X_tile_feature_kmeans'\n",
       "    uns: 'spatial', 'pca', 'X_pca_kmeans_colors', 'neighbors', 'louvain', 'louvain_colors', 'X_tile_feature_kmeans_colors'\n",
       "    obsm: 'X_pca', 'X_tile_feature', 'X_morphology'\n",
       "    varm: 'PCs'\n",
       "    obsp: 'distances', 'connectivities'"
      ]
     },
     "execution_count": 26,
     "metadata": {},
     "output_type": "execute_result"
    }
   ],
   "source": [
    "all_adata"
   ]
  },
  {
   "cell_type": "code",
   "execution_count": 35,
   "metadata": {},
   "outputs": [
    {
     "name": "stdout",
     "output_type": "stream",
     "text": [
      "10\n",
      "15\n",
      "20\n",
      "25\n",
      "30\n"
     ]
    }
   ],
   "source": [
    "for i in range(10,35,5):\n",
    "    print(i)"
   ]
  },
  {
   "cell_type": "code",
   "execution_count": 43,
   "metadata": {},
   "outputs": [],
   "source": [
    "all_adata.write_h5ad(OUT_PATH/\"all_adata.h5ad\")"
   ]
  },
  {
   "cell_type": "code",
   "execution_count": 47,
   "metadata": {},
   "outputs": [],
   "source": [
    "# del Sample1_SME.obsm[\"filtered_counts\"]\n",
    "# del Sample1_SME.obsm[\"normalized_total\"]\n",
    "Sample1_SME.write_h5ad(OUT_PATH/\"Sample1_SME.h5ad\")"
   ]
  },
  {
   "cell_type": "code",
   "execution_count": 49,
   "metadata": {},
   "outputs": [
    {
     "name": "stderr",
     "output_type": "stream",
     "text": [
      "... storing 'index' as categorical\n"
     ]
    }
   ],
   "source": [
    "# del Sample1_ps.obsm[\"filtered_counts\"]\n",
    "# del Sample1_ps.obsm[\"normalized_total\"]\n",
    "Sample1_ps.write_h5ad(OUT_PATH/\"Sample1_ps.h5ad\")"
   ]
  },
  {
   "cell_type": "code",
   "execution_count": 66,
   "metadata": {},
   "outputs": [
    {
     "name": "stderr",
     "output_type": "stream",
     "text": [
      "/home/uqxtan9/90days/.conda/envs/stlearn/lib/python3.8/site-packages/anndata/_core/anndata.py:1192: FutureWarning: is_categorical is deprecated and will be removed in a future version.  Use is_categorical_dtype instead\n",
      "  if is_string_dtype(df[key]) and not is_categorical(df[key])\n",
      "... storing 'feature_types' as categorical\n",
      "... storing 'genome' as categorical\n"
     ]
    }
   ],
   "source": [
    "Sample1_imputation = Sample1.copy()\n",
    "Sample1_imputation.X = Sample1_imputation.obsm[\"imputed_data\"]\n",
    "# del Sample1_imputation.obsm[\"filtered_counts\"]\n",
    "# del Sample1_imputation.obsm[\"normalized_total\"]\n",
    "Sample1_imputation.write_h5ad(OUT_PATH/\"Sample1_imputation.h5ad\")"
   ]
  },
  {
   "cell_type": "code",
   "execution_count": 108,
   "metadata": {},
   "outputs": [
    {
     "name": "stderr",
     "output_type": "stream",
     "text": [
      "/home/uqxtan9/90days/.conda/envs/stlearn/lib/python3.8/site-packages/anndata/_core/anndata.py:1192: FutureWarning: is_categorical is deprecated and will be removed in a future version.  Use is_categorical_dtype instead\n",
      "  if is_string_dtype(df[key]) and not is_categorical(df[key])\n",
      "... storing 'feature_types' as categorical\n",
      "... storing 'genome' as categorical\n"
     ]
    }
   ],
   "source": [
    "Sample2_imputation = Sample2.copy()\n",
    "Sample2_imputation.X = Sample2_imputation.obsm[\"imputed_data\"]\n",
    "# del Sample2_imputation.obsm[\"filtered_counts\"]\n",
    "# del Sample2_imputation.obsm[\"normalized_total\"]\n",
    "Sample2_imputation.write_h5ad(OUT_PATH/\"Sample2_imputation.h5ad\")"
   ]
  },
  {
   "cell_type": "code",
   "execution_count": 34,
   "metadata": {},
   "outputs": [],
   "source": [
    "Sample1_SME = anndata.read_h5ad(OUT_PATH/\"Sample1_SME.h5ad\")\n",
    "Sample1_imputation = anndata.read_h5ad(OUT_PATH/\"Sample1_imputation.h5ad\")\n",
    "Sample1_ps = anndata.read_h5ad(OUT_PATH/\"Sample1_ps.h5ad\")\n",
    "\n",
    "# Sample2_SME = anndata.read_h5ad(OUT_PATH/\"Sample2_SME.h5ad\")\n",
    "Sample2_imputation = anndata.read_h5ad(OUT_PATH/\"Sample2_imputation.h5ad\")\n",
    "# Sample2_ps = anndata.read_h5ad(OUT_PATH/\"Sample2_ps.h5ad\")\n",
    "\n",
    "all_adata = anndata.read_h5ad(OUT_PATH/\"all_adata.h5ad\")"
   ]
  },
  {
   "cell_type": "code",
   "execution_count": 12,
   "metadata": {},
   "outputs": [],
   "source": [
    "import scanpy as sc"
   ]
  },
  {
   "cell_type": "code",
   "execution_count": 13,
   "metadata": {},
   "outputs": [],
   "source": [
    "sc.tl.rank_genes_groups(Sample1_SME, \"louvain\", method=\"wilcoxon\")"
   ]
  },
  {
   "cell_type": "code",
   "execution_count": 14,
   "metadata": {},
   "outputs": [
    {
     "data": {
      "text/plain": [
       "AAACAAGTATCTCCCA-1    0\n",
       "AAACACCAATAACTGC-1    1\n",
       "AAACAGAGCGACTCCT-1    4\n",
       "AAACAGGGTCTATATT-1    0\n",
       "AAACAGTGTTCCTGGG-1    1\n",
       "                     ..\n",
       "TTGTTGTGTGTCAAGA-1    9\n",
       "TTGTTTCACATCCAGG-1    1\n",
       "TTGTTTCATTAGTCTA-1    1\n",
       "TTGTTTCCATACAACT-1    0\n",
       "TTGTTTGTGTAAATTC-1    5\n",
       "Name: louvain, Length: 3798, dtype: category\n",
       "Categories (11, object): ['0', '1', '2', '3', ..., '7', '8', '9', '10']"
      ]
     },
     "execution_count": 14,
     "metadata": {},
     "output_type": "execute_result"
    }
   ],
   "source": [
    "Sample1_SME.obs[\"louvain\"]"
   ]
  },
  {
   "cell_type": "code",
   "execution_count": 15,
   "metadata": {},
   "outputs": [
    {
     "data": {
      "text/plain": [
       "AAACAAGTATCTCCCA-1    0\n",
       "AAACACCAATAACTGC-1    1\n",
       "AAACAGAGCGACTCCT-1    4\n",
       "AAACAGGGTCTATATT-1    0\n",
       "AAACAGTGTTCCTGGG-1    1\n",
       "                     ..\n",
       "TTGTTGTGTGTCAAGA-1    9\n",
       "TTGTTTCACATCCAGG-1    1\n",
       "TTGTTTCATTAGTCTA-1    1\n",
       "TTGTTTCCATACAACT-1    0\n",
       "TTGTTTGTGTAAATTC-1    5\n",
       "Length: 3798, dtype: int8"
      ]
     },
     "execution_count": 15,
     "metadata": {},
     "output_type": "execute_result"
    }
   ],
   "source": [
    "Sample1_SME.obs[\"louvain\"].cat.codes"
   ]
  },
  {
   "cell_type": "code",
   "execution_count": 16,
   "metadata": {},
   "outputs": [],
   "source": [
    "df = pd.DataFrame(Sample1_SME.uns['rank_genes_groups']['names']).head(5)"
   ]
  },
  {
   "cell_type": "code",
   "execution_count": 17,
   "metadata": {},
   "outputs": [
    {
     "data": {
      "text/html": [
       "<div>\n",
       "<style scoped>\n",
       "    .dataframe tbody tr th:only-of-type {\n",
       "        vertical-align: middle;\n",
       "    }\n",
       "\n",
       "    .dataframe tbody tr th {\n",
       "        vertical-align: top;\n",
       "    }\n",
       "\n",
       "    .dataframe thead th {\n",
       "        text-align: right;\n",
       "    }\n",
       "</style>\n",
       "<table border=\"1\" class=\"dataframe\">\n",
       "  <thead>\n",
       "    <tr style=\"text-align: right;\">\n",
       "      <th></th>\n",
       "      <th>0</th>\n",
       "      <th>1</th>\n",
       "      <th>2</th>\n",
       "      <th>3</th>\n",
       "      <th>4</th>\n",
       "      <th>5</th>\n",
       "      <th>6</th>\n",
       "      <th>7</th>\n",
       "      <th>8</th>\n",
       "      <th>9</th>\n",
       "      <th>10</th>\n",
       "    </tr>\n",
       "  </thead>\n",
       "  <tbody>\n",
       "    <tr>\n",
       "      <th>0</th>\n",
       "      <td>C3</td>\n",
       "      <td>CXCL14</td>\n",
       "      <td>CRISP3</td>\n",
       "      <td>CPB1</td>\n",
       "      <td>MALAT1</td>\n",
       "      <td>SLC39A6</td>\n",
       "      <td>MGP</td>\n",
       "      <td>AC087379.2</td>\n",
       "      <td>RPL18A</td>\n",
       "      <td>LINC00645</td>\n",
       "      <td>MGP</td>\n",
       "    </tr>\n",
       "    <tr>\n",
       "      <th>1</th>\n",
       "      <td>TIMP1</td>\n",
       "      <td>CCND1</td>\n",
       "      <td>SLITRK6</td>\n",
       "      <td>IL6ST</td>\n",
       "      <td>C3</td>\n",
       "      <td>COX6C</td>\n",
       "      <td>DSP</td>\n",
       "      <td>PGM5-AS1</td>\n",
       "      <td>ADIRF</td>\n",
       "      <td>MUC5B</td>\n",
       "      <td>LINC00645</td>\n",
       "    </tr>\n",
       "    <tr>\n",
       "      <th>2</th>\n",
       "      <td>CYBA</td>\n",
       "      <td>GNG5</td>\n",
       "      <td>S100A13</td>\n",
       "      <td>FCGR3B</td>\n",
       "      <td>IGHG4</td>\n",
       "      <td>SNCG</td>\n",
       "      <td>SERPINA3</td>\n",
       "      <td>HEBP1</td>\n",
       "      <td>KRT19</td>\n",
       "      <td>PVALB</td>\n",
       "      <td>SLC39A6</td>\n",
       "    </tr>\n",
       "    <tr>\n",
       "      <th>3</th>\n",
       "      <td>CD74</td>\n",
       "      <td>TTLL12</td>\n",
       "      <td>PSMA6</td>\n",
       "      <td>CFB</td>\n",
       "      <td>RPL36</td>\n",
       "      <td>WFDC2</td>\n",
       "      <td>S100G</td>\n",
       "      <td>S100G</td>\n",
       "      <td>CRIP1</td>\n",
       "      <td>EXOC2</td>\n",
       "      <td>MRPS30</td>\n",
       "    </tr>\n",
       "    <tr>\n",
       "      <th>4</th>\n",
       "      <td>HLA-DRA</td>\n",
       "      <td>AGR2</td>\n",
       "      <td>C6orf141</td>\n",
       "      <td>LINC02224</td>\n",
       "      <td>TIMP1</td>\n",
       "      <td>FASN</td>\n",
       "      <td>TFF1</td>\n",
       "      <td>PCED1B</td>\n",
       "      <td>RPS15</td>\n",
       "      <td>SLC30A8</td>\n",
       "      <td>WFDC2</td>\n",
       "    </tr>\n",
       "  </tbody>\n",
       "</table>\n",
       "</div>"
      ],
      "text/plain": [
       "         0       1         2          3       4        5         6  \\\n",
       "0       C3  CXCL14    CRISP3       CPB1  MALAT1  SLC39A6       MGP   \n",
       "1    TIMP1   CCND1   SLITRK6      IL6ST      C3    COX6C       DSP   \n",
       "2     CYBA    GNG5   S100A13     FCGR3B   IGHG4     SNCG  SERPINA3   \n",
       "3     CD74  TTLL12     PSMA6        CFB   RPL36    WFDC2     S100G   \n",
       "4  HLA-DRA    AGR2  C6orf141  LINC02224   TIMP1     FASN      TFF1   \n",
       "\n",
       "            7       8          9         10  \n",
       "0  AC087379.2  RPL18A  LINC00645        MGP  \n",
       "1    PGM5-AS1   ADIRF      MUC5B  LINC00645  \n",
       "2       HEBP1   KRT19      PVALB    SLC39A6  \n",
       "3       S100G   CRIP1      EXOC2     MRPS30  \n",
       "4      PCED1B   RPS15    SLC30A8      WFDC2  "
      ]
     },
     "execution_count": 17,
     "metadata": {},
     "output_type": "execute_result"
    }
   ],
   "source": [
    "df"
   ]
  },
  {
   "cell_type": "code",
   "execution_count": 11,
   "metadata": {},
   "outputs": [],
   "source": [
    "# for i in range(1):\n",
    "#     gene = df.iloc[i,6]\n",
    "#     print(gene)\n",
    "#     st.pl.gene_plot(Sample1,genes=gene, spot_size=1.5,\n",
    "#                    output=str(OUT_PATH), name=\"Sample1_gene_{}_6.png\".format(gene),dpi=1200)\n",
    "#     st.pl.gene_plot(Sample1_SME,genes=gene, spot_size=1.5,\n",
    "#                    output=str(OUT_PATH), name=\"Sample1_SME_gene_{}_6.png\".format(gene),dpi=1200)\n",
    "#     st.pl.gene_plot(Sample1_ps,genes=gene, spot_size=1.5,\n",
    "#                    output=str(OUT_PATH), name=\"Sample1_ps_gene_{}_6.png\".format(gene),dpi=1200)\n",
    "#     st.pl.gene_plot(all_adata,genes=gene, spot_size=1.5,\n",
    "#                    output=str(OUT_PATH), name=\"Sample1_all_gene_{}_6.png\".format(gene),dpi=1200)"
   ]
  },
  {
   "cell_type": "code",
   "execution_count": 12,
   "metadata": {},
   "outputs": [],
   "source": [
    "# for i in range(5):\n",
    "#     gene = df.iloc[i,0]\n",
    "#     print(gene)\n",
    "#     st.pl.gene_plot(Sample1,genes=gene, spot_size=1.5,\n",
    "#                    output=str(OUT_PATH), name=\"Sample1_gene_{}_0.pdf\".format(gene))\n",
    "#     st.pl.gene_plot(Sample1_ps,genes=gene, spot_size=1.5,\n",
    "#                    output=str(OUT_PATH), name=\"Sample1_ps_gene_{}_0.pdf\".format(gene))"
   ]
  },
  {
   "cell_type": "code",
   "execution_count": 13,
   "metadata": {},
   "outputs": [],
   "source": [
    "# for i in range(5):\n",
    "#     gene = df.iloc[i,2]\n",
    "#     print(gene)\n",
    "#     st.pl.gene_plot(Sample1,genes=gene, spot_size=1.5,\n",
    "#                    output=str(OUT_PATH), name=\"Sample1_gene_{}_2.pdf\".format(gene))\n",
    "#     st.pl.gene_plot(Sample1_ps,genes=gene, spot_size=1.5,\n",
    "#                    output=str(OUT_PATH), name=\"Sample1_ps_gene_{}_2.pdf\".format(gene))"
   ]
  },
  {
   "cell_type": "code",
   "execution_count": null,
   "metadata": {},
   "outputs": [],
   "source": [
    "for i in range(5):\n",
    "    gene = df.iloc[i,5]\n",
    "    print(gene)\n",
    "    st.pl.gene_plot(Sample1,genes=gene, spot_size=1.5,\n",
    "                   output=str(OUT_PATH), name=\"Sample1_gene_{}_5.pdf\".format(gene))\n",
    "    st.pl.gene_plot(Sample1_ps,genes=gene, spot_size=1.5,\n",
    "                   output=str(OUT_PATH), name=\"Sample1_ps_gene_{}_5.pdf\".format(gene))"
   ]
  },
  {
   "cell_type": "code",
   "execution_count": null,
   "metadata": {},
   "outputs": [],
   "source": [
    "for i in range(5):\n",
    "    gene = df.iloc[i,7]\n",
    "    print(gene)\n",
    "    st.pl.gene_plot(Sample1,genes=gene, spot_size=1.5,\n",
    "                   output=str(OUT_PATH), name=\"Sample1_gene_{}_7.pdf\".format(gene))\n",
    "    st.pl.gene_plot(Sample1_ps,genes=gene, spot_size=1.5,\n",
    "                   output=str(OUT_PATH), name=\"Sample1_ps_gene_{}_7.pdf\".format(gene))"
   ]
  },
  {
   "cell_type": "code",
   "execution_count": null,
   "metadata": {},
   "outputs": [],
   "source": [
    "for i in range(5):\n",
    "    gene = df.iloc[i,10]\n",
    "    print(gene)\n",
    "    st.pl.gene_plot(Sample1,genes=gene, spot_size=1.5,\n",
    "                   output=str(OUT_PATH), name=\"Sample1_gene_{}_10.pdf\".format(gene))\n",
    "    st.pl.gene_plot(Sample1_ps,genes=gene, spot_size=1.5,\n",
    "                   output=str(OUT_PATH), name=\"Sample1_ps_gene_{}_10.pdf\".format(gene))"
   ]
  },
  {
   "cell_type": "code",
   "execution_count": 129,
   "metadata": {},
   "outputs": [],
   "source": [
    "import matplotlib.pyplot as plt\n",
    "from libpysal.weights.contiguity import Queen\n",
    "from libpysal import examples\n",
    "import numpy as np\n",
    "import pandas as pd\n",
    "import geopandas as gpd\n",
    "import os\n",
    "import splot\n",
    "from splot.esda import moran_scatterplot, lisa_cluster\n",
    "from esda.moran import Moran, Moran_Local\n",
    "from esda.moran import Moran_BV, Moran_Local_BV\n",
    "from splot.esda import plot_moran_bv_simulation, plot_moran_bv, plot_local_autocorrelation"
   ]
  },
  {
   "cell_type": "code",
   "execution_count": 19,
   "metadata": {},
   "outputs": [],
   "source": [
    "from anndata import AnnData\n",
    "from typing import Iterable, Union, Optional\n",
    "import pandas as pd\n",
    "def spatial_autocorr(adata_true: AnnData,\n",
    "                     adata_pred: AnnData,\n",
    "                     model_name: str,\n",
    "                     p: float = 0.05,\n",
    "                     save_plots: str = None,\n",
    ") -> Optional[AnnData]:\n",
    "    \n",
    "    assert len(adata_true.var_names) == len(adata_pred.var_names)\n",
    "    \n",
    "    gpd_name = \"gpd_{}\".format(model_name)\n",
    "    library_id = list(adata_true.uns[\"spatial\"].keys())[0]\n",
    "    tissue_image = adata_true.uns[\"spatial\"][library_id][\"images\"][\"fulres\"]\n",
    "    \n",
    "    adata_true.obsm[gpd_name] = gpd.GeoDataFrame(adata_true.obs,\n",
    "                                                 geometry=gpd.points_from_xy(\n",
    "                                                          adata_true.obs.imagecol, \n",
    "                                                          adata_true.obs.imagerow))\n",
    "    w = Queen.from_dataframe(adata_true.obsm[gpd_name])\n",
    "    \n",
    "    spatial_autocorr_label = []\n",
    "    moran_i = []\n",
    "    n_sigs = []\n",
    "    for gene in adata_true.var_names:\n",
    "        x = np.array(adata_true.to_df()[gene].values, dtype='float')\n",
    "        y = np.array(adata_pred.to_df()[gene].values, dtype='float')\n",
    "        \n",
    "        adata_true.obsm[gpd_name][\"gc_{}\".format(gene)] = x\n",
    "        adata_true.obsm[gpd_name][\"pred_{}\".format(gene)] = y\n",
    "        \n",
    "#         moran = Moran(x,w)\n",
    "        moran_bv = Moran_BV(y, x, w)\n",
    "#         moran_loc = Moran_Local(x, w)\n",
    "        moran_loc_bv = Moran_Local_BV(y, x, w)\n",
    "        \n",
    "        labels, n_sig = hot_cold_label(moran_loc_bv, p)\n",
    "        spatial_autocorr_label.append(labels)\n",
    "        moran_i.append(moran_bv.I)\n",
    "        n_sigs.append(n_sig)\n",
    "        \n",
    "        if save_plots:\n",
    "            lisa_cluster(moran_loc_bv, adata_true.obsm[gpd_name], p=0.05, \n",
    "                         figsize = (9,9), markersize=12,)# **{\"alpha\":1})\n",
    "            plt.imshow(tissue_image)\n",
    "            plt.savefig(save_plots / \"lisa_cluster_{}\".format(gene))\n",
    "            \n",
    "        adata_true.obsm[gpd_name].drop([\"gc_{}\".format(gene),\n",
    "                                        \"pred_{}\".format(gene)], inplace=True, axis=1)\n",
    "    \n",
    "    label_array = np.array(spatial_autocorr_label).transpose()\n",
    "    \n",
    "    n_zero = (adata_true.to_df() == 0).apply(sum, axis=0) / len(adata_true.obs_names)\n",
    "    df = pd.DataFrame({\n",
    "        \"moran_i\":moran_i,\n",
    "        \"n_sigs\":n_sigs,\n",
    "        \"n_zero\":n_zero\n",
    "    }, index=adata_true.var_names)\n",
    "    return df\n",
    "\n",
    "\n",
    "def hot_cold_label(moran_loc, p):\n",
    "    cluster = moran_hot_cold_spots(moran_loc, p)\n",
    "    cluster_labels = ['ns', 'HH', 'LH', 'LL', 'HL']\n",
    "    labels = [cluster_labels[i] for i in cluster]\n",
    "    n_sig = labels.count('HH') + labels.count('LL')\n",
    "    return labels, n_sig"
   ]
  },
  {
   "cell_type": "code",
   "execution_count": null,
   "metadata": {},
   "outputs": [],
   "source": []
  },
  {
   "cell_type": "code",
   "execution_count": null,
   "metadata": {},
   "outputs": [],
   "source": []
  },
  {
   "cell_type": "code",
   "execution_count": null,
   "metadata": {},
   "outputs": [],
   "source": []
  },
  {
   "cell_type": "code",
   "execution_count": 125,
   "metadata": {},
   "outputs": [],
   "source": [
    "from matplotlib import patches, colors\n",
    "def lisa_cluster(moran_loc, gdf, p=0.05, ax=None,\n",
    "                 legend=True, legend_kwds=None, **kwargs):\n",
    "    \"\"\"\n",
    "    Create a LISA Cluster map\n",
    "    Parameters\n",
    "    ----------\n",
    "    moran_loc : esda.moran.Moran_Local or Moran_Local_BV instance\n",
    "        Values of Moran's Local Autocorrelation Statistic\n",
    "    gdf : geopandas dataframe instance\n",
    "        The Dataframe containing information to plot. Note that `gdf` will be\n",
    "        modified, so calling functions should use a copy of the user\n",
    "        provided `gdf`. (either using gdf.assign() or gdf.copy())\n",
    "    p : float, optional\n",
    "        The p-value threshold for significance. Points will\n",
    "        be colored by significance.\n",
    "    ax : matplotlib Axes instance, optional\n",
    "        Axes in which to plot the figure in multiple Axes layout.\n",
    "        Default = None\n",
    "    legend : boolean, optional\n",
    "        If True, legend for maps will be depicted. Default = True\n",
    "    legend_kwds : dict, optional\n",
    "        Dictionary to control legend formatting options. Example:\n",
    "        ``legend_kwds={'loc': 'upper left', 'bbox_to_anchor': (0.92, 1.05)}``\n",
    "        Default = None\n",
    "    **kwargs : keyword arguments, optional\n",
    "        Keywords designing and passed to geopandas.GeoDataFrame.plot().\n",
    "    Returns\n",
    "    -------\n",
    "    fig : matplotlip Figure instance\n",
    "        Figure of LISA cluster map\n",
    "    ax : matplotlib Axes instance\n",
    "        Axes in which the figure is plotted\n",
    "    Examples\n",
    "    --------\n",
    "    Imports\n",
    "    \n",
    "    >>> import matplotlib.pyplot as plt\n",
    "    >>> from libpysal.weights.contiguity import Queen\n",
    "    >>> from libpysal import examples\n",
    "    >>> import geopandas as gpd\n",
    "    >>> from esda.moran import Moran_Local\n",
    "    >>> from splot.esda import lisa_cluster\n",
    "    Data preparation and statistical analysis\n",
    "    \n",
    "    >>> guerry = examples.load_example('Guerry')\n",
    "    >>> link_to_data = guerry.get_path('guerry.shp')\n",
    "    >>> gdf = gpd.read_file(link_to_data)\n",
    "    >>> y = gdf['Donatns'].values\n",
    "    >>> w = Queen.from_dataframe(gdf)\n",
    "    >>> w.transform = 'r'\n",
    "    >>> moran_loc = Moran_Local(y, w)\n",
    "    Plotting\n",
    "    \n",
    "    >>> fig = lisa_cluster(moran_loc, gdf)\n",
    "    >>> plt.show()\n",
    "    \n",
    "    \"\"\"\n",
    "    # retrieve colors5 and labels from mask_local_auto\n",
    "    _, colors5, _, labels = mask_local_auto(moran_loc, p=p)\n",
    "\n",
    "    # define ListedColormap\n",
    "    hmap = colors.ListedColormap(colors5)\n",
    "\n",
    "    if ax is None:\n",
    "        figsize = kwargs.pop('figsize', None)\n",
    "        fig, ax = plt.subplots(1, figsize=figsize)\n",
    "    else:\n",
    "        fig = ax.get_figure()\n",
    "\n",
    "    gdf.assign(cl=labels).plot(column='cl', categorical=True,\n",
    "                               k=2, cmap=hmap, linewidth=0.1, ax=ax,\n",
    "                               edgecolor='white', legend=legend,\n",
    "                               legend_kwds=legend_kwds, **kwargs)\n",
    "    ax.set_axis_off()\n",
    "    ax.set_aspect('equal')\n",
    "    return fig, ax\n",
    "\n",
    "\n",
    "def mask_local_auto(moran_loc, p=0.5):\n",
    "    '''\n",
    "    Create Mask for coloration and labeling of local spatial autocorrelation\n",
    "    Parameters\n",
    "    ----------\n",
    "    moran_loc : esda.moran.Moran_Local instance\n",
    "        values of Moran's I Global Autocorrelation Statistic\n",
    "    p : float\n",
    "        The p-value threshold for significance. Points will\n",
    "        be colored by significance.\n",
    "    Returns\n",
    "    -------\n",
    "    cluster_labels : list of str\n",
    "        List of labels - ['ns', 'HH', 'LH', 'LL', 'HL']\n",
    "    colors5 : list of str\n",
    "        List of colours - ['#d7191c', '#fdae61', '#abd9e9',\n",
    "        '#2c7bb6', 'lightgrey']\n",
    "    colors : array of str\n",
    "        Array containing coloration for each input value/ shape.\n",
    "    labels : list of str\n",
    "        List of label for each attribute value/ polygon.\n",
    "    '''\n",
    "    # create a mask for local spatial autocorrelation\n",
    "    cluster = moran_hot_cold_spots(moran_loc, p)\n",
    "\n",
    "    cluster_labels = ['ns', 'HH', 'LH', 'LL', 'HL']\n",
    "    labels = [cluster_labels[i] for i in cluster]\n",
    "\n",
    "    colors5 = {0: '#ffffff00',\n",
    "               1: '#d7191cff',\n",
    "               2: '#abd9e9ff',\n",
    "               3: '#2c7bb6ff',\n",
    "               4: '#fdae61ff'}\n",
    "    colors = [colors5[i] for i in cluster]  # for Bokeh\n",
    "    # for MPL, keeps colors even if clusters are missing:\n",
    "    x = np.array(labels)\n",
    "    y = np.unique(x)\n",
    "    colors5_mpl = {'HH': '#d7191cff',\n",
    "                   'LH': '#abd9e9ff',\n",
    "                   'LL': '#2c7bb6ff',\n",
    "                   'HL': '#fdae61ff',\n",
    "                   'ns': '#ffffff00'}\n",
    "    colors5 = [colors5_mpl[i] for i in y]  # for mpl\n",
    "\n",
    "    # HACK need this, because MPL sorts these labels while Bokeh does not\n",
    "    cluster_labels.sort()\n",
    "    return cluster_labels, colors5, colors, labels\n",
    "\n",
    "\n",
    "def moran_hot_cold_spots(moran_loc, p=0.05):\n",
    "    sig = 1 * (moran_loc.p_sim < p)\n",
    "    HH = 1 * (sig * moran_loc.q == 1)\n",
    "    LL = 3 * (sig * moran_loc.q == 3)\n",
    "    LH = 2 * (sig * moran_loc.q == 2)\n",
    "    HL = 4 * (sig * moran_loc.q == 4)\n",
    "    cluster = HH + LL + LH + HL\n",
    "    return cluster"
   ]
  },
  {
   "cell_type": "code",
   "execution_count": 21,
   "metadata": {},
   "outputs": [],
   "source": [
    "from scipy import stats\n",
    "\n",
    "def plot_correlation(df, attr_1, attr_2):\n",
    "    r = stats.pearsonr(df[attr_1], \n",
    "                       df[attr_2])[0] **2\n",
    "\n",
    "    g = sns.lmplot(data=df,\n",
    "        x=attr_1, y=attr_2,\n",
    "        height=5, legend=True\n",
    "    )\n",
    "    # g.set(ylim=(0, 360), xlim=(0,360))\n",
    "\n",
    "    g.set_axis_labels(attr_1, attr_2)\n",
    "    plt.annotate(r'$R^2:{0:.2f}$'.format(r),\n",
    "                (max(df[attr_1])*0.9, max(df[attr_2])*0.9))\n",
    "    return g"
   ]
  },
  {
   "cell_type": "code",
   "execution_count": 22,
   "metadata": {},
   "outputs": [],
   "source": [
    "import scanpy as sc"
   ]
  },
  {
   "cell_type": "code",
   "execution_count": 26,
   "metadata": {},
   "outputs": [
    {
     "data": {
      "text/plain": [
       "AnnData object with n_obs × n_vars = 3798 × 22240\n",
       "    obs: 'in_tissue', 'array_row', 'array_col', 'sum_counts', 'imagecol', 'imagerow', 'tile_path'\n",
       "    var: 'gene_ids', 'feature_types', 'genome', 'n_cells'\n",
       "    uns: 'gene_expression_correlation', 'morphological_distance', 'pca', 'physical_distance', 'spatial', 'weights_matrix_all', 'weights_matrix_gd_md', 'weights_matrix_pd_gd', 'weights_matrix_pd_md'\n",
       "    obsm: 'X_morphology', 'X_pca', 'X_tile_feature', 'imputed_data', 'raw_SME_normalized', 'spatial', 'top_weights'\n",
       "    varm: 'PCs'"
      ]
     },
     "execution_count": 26,
     "metadata": {},
     "output_type": "execute_result"
    }
   ],
   "source": [
    "Sample1_imputation"
   ]
  },
  {
   "cell_type": "code",
   "execution_count": 27,
   "metadata": {},
   "outputs": [
    {
     "data": {
      "text/plain": [
       "AnnData object with n_obs × n_vars = 3798 × 36601\n",
       "    obs: 'in_tissue', 'array_row', 'array_col', 'imagecol', 'imagerow'\n",
       "    var: 'gene_ids', 'feature_types', 'genome'\n",
       "    uns: 'spatial'\n",
       "    obsm: 'spatial'"
      ]
     },
     "execution_count": 27,
     "metadata": {},
     "output_type": "execute_result"
    }
   ],
   "source": [
    "Sample1"
   ]
  },
  {
   "cell_type": "code",
   "execution_count": 107,
   "metadata": {},
   "outputs": [],
   "source": [
    "gene = \"COX6C\"\n",
    "model_name = \"stSME\"\n",
    "adata_true = Sample1.copy()\n",
    "adata_pred = Sample1_imputation.copy()\n",
    "p = 0.05\n",
    "\n",
    "gpd_name = \"gpd_{}\".format(model_name)\n",
    "library_id = list(adata_true.uns[\"spatial\"].keys())[0]\n",
    "tissue_image = adata_true.uns[\"spatial\"][library_id][\"images\"][\"fulres\"]\n",
    "    \n",
    "adata_true.obsm[gpd_name] = gpd.GeoDataFrame(adata_true.obs,\n",
    "                                                 geometry=gpd.points_from_xy(\n",
    "                                                          adata_true.obs.imagecol, \n",
    "                                                          adata_true.obs.imagerow))\n",
    "w = Queen.from_dataframe(adata_true.obsm[gpd_name])\n",
    "x = np.array(adata_true.to_df()[gene].values, dtype='float')\n",
    "y = np.array(adata_pred.to_df()[gene].values, dtype='float')\n",
    "\n",
    "adata_true.obsm[gpd_name][\"gc_{}\".format(gene)] = x\n",
    "adata_true.obsm[gpd_name][\"pred_{}\".format(gene)] = y\n",
    "        \n",
    "#         moran = Moran(x,w)\n",
    "moran_bv = Moran_BV(y, x, w)\n",
    "#         moran_loc = Moran_Local(x, w)\n",
    "moran_loc_bv = Moran_Local_BV(y, x, w)\n",
    "        \n",
    "labels, n_sig = hot_cold_label(moran_loc_bv, p)"
   ]
  },
  {
   "cell_type": "code",
   "execution_count": 14,
   "metadata": {},
   "outputs": [],
   "source": [
    "# lisa_cluster(moran_loc_bv, adata_true.obsm[gpd_name], figsize = (9,9), markersize=12, **{\"alpha\":0.8})\n",
    "# plt.imshow(adata_true.uns[\"spatial\"][\"block1\"][\"images\"][\"fulres\"])\n",
    "# plt.show()"
   ]
  },
  {
   "cell_type": "code",
   "execution_count": null,
   "metadata": {},
   "outputs": [],
   "source": []
  },
  {
   "cell_type": "code",
   "execution_count": null,
   "metadata": {},
   "outputs": [],
   "source": []
  },
  {
   "cell_type": "code",
   "execution_count": null,
   "metadata": {},
   "outputs": [],
   "source": []
  },
  {
   "cell_type": "code",
   "execution_count": 35,
   "metadata": {},
   "outputs": [],
   "source": [
    "common_genes = Sample1.var_names.intersection(Sample2.var_names)\n",
    "Sample1_commom = Sample1[:,common_genes].copy()\n",
    "Sample2_commom = Sample2[:,common_genes].copy()\n",
    "Sample1_imputation_commom = Sample1_imputation[:,common_genes].copy()\n",
    "Sample2_imputation_commom = Sample2_imputation[:,common_genes].copy()"
   ]
  },
  {
   "cell_type": "code",
   "execution_count": 36,
   "metadata": {},
   "outputs": [],
   "source": [
    "sc.pp.highly_variable_genes(Sample1_commom, n_top_genes=2000)"
   ]
  },
  {
   "cell_type": "code",
   "execution_count": 122,
   "metadata": {},
   "outputs": [
    {
     "name": "stderr",
     "output_type": "stream",
     "text": [
      "/home/uqxtan9/90days/.conda/envs/stlearn/lib/python3.8/site-packages/anndata/_core/anndata.py:1094: FutureWarning: is_categorical is deprecated and will be removed in a future version.  Use is_categorical_dtype instead\n",
      "  if not is_categorical(df_full[k]):\n"
     ]
    }
   ],
   "source": [
    "df_1_ = spatial_autocorr(Sample1_commom[:,Sample1_commom.var.highly_variable], \n",
    "                      Sample1_imputation_commom[:,Sample1_commom.var.highly_variable], \"stSME\")"
   ]
  },
  {
   "cell_type": "code",
   "execution_count": 123,
   "metadata": {},
   "outputs": [
    {
     "name": "stderr",
     "output_type": "stream",
     "text": [
      "/home/uqxtan9/90days/.conda/envs/stlearn/lib/python3.8/site-packages/anndata/_core/anndata.py:1094: FutureWarning: is_categorical is deprecated and will be removed in a future version.  Use is_categorical_dtype instead\n",
      "  if not is_categorical(df_full[k]):\n"
     ]
    }
   ],
   "source": [
    "df_2_ = spatial_autocorr(Sample2_commom[:,Sample1_commom.var.highly_variable], \n",
    "                      Sample2_imputation_commom[:,Sample1_commom.var.highly_variable], \"stSME\")"
   ]
  },
  {
   "cell_type": "code",
   "execution_count": 125,
   "metadata": {},
   "outputs": [],
   "source": [
    "df_1.to_csv(OUT_PATH / \"250HVG_autocorr_S1.csv\")\n",
    "df_2.to_csv(OUT_PATH / \"250HVG_autocorr_S2.csv\")\n",
    "df_1_.to_csv(OUT_PATH / \"2000HVG_autocorr_S1.csv\")\n",
    "df_2_.to_csv(OUT_PATH / \"2000HVG_autocorr_S2.csv\")"
   ]
  },
  {
   "cell_type": "code",
   "execution_count": 40,
   "metadata": {},
   "outputs": [],
   "source": [
    "df_1 = pd.read_csv(OUT_PATH / \"250HVG_autocorr_S1.csv\", index_col=0)\n",
    "df_2 = pd.read_csv(OUT_PATH / \"250HVG_autocorr_S2.csv\", index_col=0)\n",
    "df_1_ = pd.read_csv(OUT_PATH / \"2000HVG_autocorr_S1.csv\", index_col=0)\n",
    "df_2_ = pd.read_csv(OUT_PATH / \"2000HVG_autocorr_S2.csv\", index_col=0)"
   ]
  },
  {
   "cell_type": "code",
   "execution_count": 41,
   "metadata": {},
   "outputs": [],
   "source": [
    "df_1_[\"Sample\"] = \"Sample1\"\n",
    "df_2_[\"Sample\"] = \"Sample2\"\n",
    "df_1_[\"Genes\"] = df_1_.index\n",
    "df_2_[\"Genes\"] = df_2_.index\n",
    "df_final = pd.concat([df_1_, df_2_], axis=0,ignore_index=True)"
   ]
  },
  {
   "cell_type": "code",
   "execution_count": 89,
   "metadata": {},
   "outputs": [],
   "source": [
    "bins = np.arange(0.0, 1.1, 0.1)\n",
    "labels = [\"<\"+str(i)+\"%\" for i in np.arange(10, 110, 10)]\n",
    "df_final[\"bin\"] = pd.cut(df_final[\"n_zero\"], bins=bins, labels=labels)"
   ]
  },
  {
   "cell_type": "code",
   "execution_count": 90,
   "metadata": {},
   "outputs": [
    {
     "data": {
      "text/plain": [
       "['<10%',\n",
       " '<20%',\n",
       " '<30%',\n",
       " '<40%',\n",
       " '<50%',\n",
       " '<60%',\n",
       " '<70%',\n",
       " '<80%',\n",
       " '<90%',\n",
       " '<100%']"
      ]
     },
     "execution_count": 90,
     "metadata": {},
     "output_type": "execute_result"
    }
   ],
   "source": [
    "labels"
   ]
  },
  {
   "cell_type": "code",
   "execution_count": 91,
   "metadata": {},
   "outputs": [
    {
     "data": {
      "text/html": [
       "<div>\n",
       "<style scoped>\n",
       "    .dataframe tbody tr th:only-of-type {\n",
       "        vertical-align: middle;\n",
       "    }\n",
       "\n",
       "    .dataframe tbody tr th {\n",
       "        vertical-align: top;\n",
       "    }\n",
       "\n",
       "    .dataframe thead th {\n",
       "        text-align: right;\n",
       "    }\n",
       "</style>\n",
       "<table border=\"1\" class=\"dataframe\">\n",
       "  <thead>\n",
       "    <tr style=\"text-align: right;\">\n",
       "      <th></th>\n",
       "      <th>moran_i</th>\n",
       "      <th>n_sigs</th>\n",
       "      <th>n_zero</th>\n",
       "      <th>Sample</th>\n",
       "      <th>Genes</th>\n",
       "      <th>bin</th>\n",
       "    </tr>\n",
       "  </thead>\n",
       "  <tbody>\n",
       "    <tr>\n",
       "      <th>0</th>\n",
       "      <td>0.240875</td>\n",
       "      <td>575</td>\n",
       "      <td>0.143497</td>\n",
       "      <td>Sample1</td>\n",
       "      <td>MXRA8</td>\n",
       "      <td>&lt;20%</td>\n",
       "    </tr>\n",
       "    <tr>\n",
       "      <th>1</th>\n",
       "      <td>0.105307</td>\n",
       "      <td>91</td>\n",
       "      <td>0.899421</td>\n",
       "      <td>Sample1</td>\n",
       "      <td>MMP23B</td>\n",
       "      <td>&lt;90%</td>\n",
       "    </tr>\n",
       "    <tr>\n",
       "      <th>2</th>\n",
       "      <td>0.036441</td>\n",
       "      <td>3769</td>\n",
       "      <td>0.998947</td>\n",
       "      <td>Sample1</td>\n",
       "      <td>AL391845.1</td>\n",
       "      <td>&lt;100%</td>\n",
       "    </tr>\n",
       "    <tr>\n",
       "      <th>3</th>\n",
       "      <td>0.050185</td>\n",
       "      <td>3656</td>\n",
       "      <td>0.994471</td>\n",
       "      <td>Sample1</td>\n",
       "      <td>PRKCZ-AS1</td>\n",
       "      <td>&lt;100%</td>\n",
       "    </tr>\n",
       "    <tr>\n",
       "      <th>4</th>\n",
       "      <td>0.092601</td>\n",
       "      <td>84</td>\n",
       "      <td>0.886519</td>\n",
       "      <td>Sample1</td>\n",
       "      <td>TNFRSF14-AS1</td>\n",
       "      <td>&lt;90%</td>\n",
       "    </tr>\n",
       "    <tr>\n",
       "      <th>...</th>\n",
       "      <td>...</td>\n",
       "      <td>...</td>\n",
       "      <td>...</td>\n",
       "      <td>...</td>\n",
       "      <td>...</td>\n",
       "      <td>...</td>\n",
       "    </tr>\n",
       "    <tr>\n",
       "      <th>3995</th>\n",
       "      <td>0.404680</td>\n",
       "      <td>963</td>\n",
       "      <td>0.108603</td>\n",
       "      <td>Sample2</td>\n",
       "      <td>FLNA</td>\n",
       "      <td>&lt;20%</td>\n",
       "    </tr>\n",
       "    <tr>\n",
       "      <th>3996</th>\n",
       "      <td>0.746509</td>\n",
       "      <td>1886</td>\n",
       "      <td>0.000251</td>\n",
       "      <td>Sample2</td>\n",
       "      <td>MT-ND2</td>\n",
       "      <td>&lt;10%</td>\n",
       "    </tr>\n",
       "    <tr>\n",
       "      <th>3997</th>\n",
       "      <td>0.415319</td>\n",
       "      <td>991</td>\n",
       "      <td>0.489842</td>\n",
       "      <td>Sample2</td>\n",
       "      <td>MT-ATP8</td>\n",
       "      <td>&lt;50%</td>\n",
       "    </tr>\n",
       "    <tr>\n",
       "      <th>3998</th>\n",
       "      <td>0.400934</td>\n",
       "      <td>1018</td>\n",
       "      <td>0.197893</td>\n",
       "      <td>Sample2</td>\n",
       "      <td>MT-ND4L</td>\n",
       "      <td>&lt;20%</td>\n",
       "    </tr>\n",
       "    <tr>\n",
       "      <th>3999</th>\n",
       "      <td>0.098725</td>\n",
       "      <td>189</td>\n",
       "      <td>0.987710</td>\n",
       "      <td>Sample2</td>\n",
       "      <td>AC240274.1</td>\n",
       "      <td>&lt;100%</td>\n",
       "    </tr>\n",
       "  </tbody>\n",
       "</table>\n",
       "<p>4000 rows × 6 columns</p>\n",
       "</div>"
      ],
      "text/plain": [
       "       moran_i  n_sigs    n_zero   Sample         Genes    bin\n",
       "0     0.240875     575  0.143497  Sample1         MXRA8   <20%\n",
       "1     0.105307      91  0.899421  Sample1        MMP23B   <90%\n",
       "2     0.036441    3769  0.998947  Sample1    AL391845.1  <100%\n",
       "3     0.050185    3656  0.994471  Sample1     PRKCZ-AS1  <100%\n",
       "4     0.092601      84  0.886519  Sample1  TNFRSF14-AS1   <90%\n",
       "...        ...     ...       ...      ...           ...    ...\n",
       "3995  0.404680     963  0.108603  Sample2          FLNA   <20%\n",
       "3996  0.746509    1886  0.000251  Sample2        MT-ND2   <10%\n",
       "3997  0.415319     991  0.489842  Sample2       MT-ATP8   <50%\n",
       "3998  0.400934    1018  0.197893  Sample2       MT-ND4L   <20%\n",
       "3999  0.098725     189  0.987710  Sample2    AC240274.1  <100%\n",
       "\n",
       "[4000 rows x 6 columns]"
      ]
     },
     "execution_count": 91,
     "metadata": {},
     "output_type": "execute_result"
    }
   ],
   "source": [
    "df_final"
   ]
  },
  {
   "cell_type": "code",
   "execution_count": 92,
   "metadata": {},
   "outputs": [],
   "source": [
    "import seaborn as sns\n",
    "import PIL\n",
    "PIL.Image.MAX_IMAGE_PIXELS = None"
   ]
  },
  {
   "cell_type": "code",
   "execution_count": 15,
   "metadata": {},
   "outputs": [],
   "source": [
    "# f, ax = plt.subplots(figsize=(6, 5))\n",
    "# g = sns.stripplot(x=\"Sample\", y=\"moran_i\", s=2, hue=\"bin\", palette=\"Reds_r\",\n",
    "#                   data=df_final)\n",
    "# # sns.boxplot(x=\"Sample\", y=\"moran_i\",\n",
    "# #                   data=df_final)\n",
    "# g.legend(loc='center left', bbox_to_anchor=(1, 0.7), ncol=1,\n",
    "#          title='Percentage of \"0\" Spots')\n",
    "# plt.title('Spatial Autocorrelation')\n",
    "# # Set x-axis label\n",
    "# plt.ylabel('Moran\\'s I')\n",
    "# # Set y-axis label\n",
    "# plt.xlabel('Sample')\n",
    "# # plt.plot([0, 0], [1, 1], linewidth=2)\n",
    "# plt.tight_layout()\n",
    "# plt.savefig(OUT_PATH / \"plot_2000HVG_spaAuto.pdf\", dpi=300)\n",
    "# # plt.show()"
   ]
  },
  {
   "cell_type": "code",
   "execution_count": 16,
   "metadata": {
    "scrolled": true
   },
   "outputs": [],
   "source": [
    "# f, ax = plt.subplots(figsize=(6, 5))\n",
    "# g = sns.scatterplot(x=df_1_[\"moran_i\"], y=df_2_[\"moran_i\"], s=10, hue = df_1_[\"n_zero\"],palette=\"Reds_r\",)\n",
    "# g.legend(loc='center left', bbox_to_anchor=(1, 0.85), ncol=1,\n",
    "#          title='Percentage of \"0\" Spots')\n",
    "# plt.title('Spatial Autocorrelation')\n",
    "# # Set x-axis label\n",
    "# plt.xlabel('Moran Index of Sample 1')\n",
    "# # Set y-axis label\n",
    "# plt.ylabel('Moran Index of Sample 2')\n",
    "# plt.plot([0, 0], [1, 1], linewidth=2)\n",
    "# plt.tight_layout()\n",
    "# # plt.savefig(OUT_PATH / \"plot_2000HVG_spaAuto.pdf\", dpi=300)\n",
    "# plt.show()"
   ]
  },
  {
   "cell_type": "code",
   "execution_count": 17,
   "metadata": {
    "scrolled": true
   },
   "outputs": [],
   "source": [
    "# f, ax = plt.subplots(figsize=(6, 6))\n",
    "# sns.scatterplot(x=df_1_[\"n_sigs\"]/max(df_1_[\"n_sigs\"]), y=df_2_[\"n_sigs\"]/max(df_2_[\"n_sigs\"]),\n",
    "#                 s=10, hue = 1-df_1_[\"n_zero\"],palette=\"Reds\",)\n",
    "# #                 color=\".15\")\n",
    "# # sns.histplot(x=df_1_[\"n_zero\"], y=df_2_[\"n_zero\"], bins=50, pthresh=.1, cmap=\"mako\")\n",
    "# # sns.kdeplot(x=x, y=y, levels=5, color=\"w\", linewidths=1)\n",
    "# plt.show()"
   ]
  },
  {
   "cell_type": "code",
   "execution_count": null,
   "metadata": {},
   "outputs": [],
   "source": []
  }
 ],
 "metadata": {
  "kernelspec": {
   "display_name": "Python 3",
   "language": "python",
   "name": "python3"
  },
  "language_info": {
   "codemirror_mode": {
    "name": "ipython",
    "version": 3
   },
   "file_extension": ".py",
   "mimetype": "text/x-python",
   "name": "python",
   "nbconvert_exporter": "python",
   "pygments_lexer": "ipython3",
   "version": "3.8.6"
  }
 },
 "nbformat": 4,
 "nbformat_minor": 4
}
