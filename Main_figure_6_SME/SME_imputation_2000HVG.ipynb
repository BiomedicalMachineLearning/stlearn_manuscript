{
 "cells": [
  {
   "cell_type": "code",
   "execution_count": 1,
   "id": "d44139a8",
   "metadata": {},
   "outputs": [],
   "source": [
    "import stlearn as st\n",
    "from pathlib import Path\n",
    "import scanpy as sc\n",
    "st.settings.set_figure_params(dpi=300)\n",
    "import matplotlib.pyplot as plt \n",
    "import pandas as pd\n",
    "import anndata\n",
    "from anndata import AnnData\n",
    "from typing import Optional\n",
    "import scanpy as sc\n",
    "import seaborn as sns\n",
    "import PIL\n",
    "PIL.Image.MAX_IMAGE_PIXELS = None"
   ]
  },
  {
   "cell_type": "code",
   "execution_count": 2,
   "id": "e7cfde6a",
   "metadata": {},
   "outputs": [],
   "source": [
    "import matplotlib.pyplot as plt\n",
    "from libpysal.weights.contiguity import Queen\n",
    "from libpysal import examples\n",
    "import numpy as np\n",
    "import pandas as pd\n",
    "import geopandas as gpd\n",
    "import os\n",
    "import splot\n",
    "from splot.esda import moran_scatterplot, lisa_cluster\n",
    "from esda.moran import Moran, Moran_Local\n",
    "from esda.moran import Moran_BV, Moran_Local_BV\n",
    "from splot.esda import plot_moran_bv_simulation, plot_moran_bv, plot_local_autocorrelation"
   ]
  },
  {
   "cell_type": "code",
   "execution_count": 3,
   "id": "9f16a02f",
   "metadata": {},
   "outputs": [],
   "source": [
    "from anndata import AnnData\n",
    "from typing import Iterable, Union, Optional\n",
    "import pandas as pd\n",
    "def spatial_autocorr(adata_true: AnnData,\n",
    "                     adata_pred: AnnData,\n",
    "                     model_name: str,\n",
    "                     p: float = 0.05,\n",
    "                     save_plots: str = None,\n",
    ") -> Optional[AnnData]:\n",
    "    \n",
    "    assert len(adata_true.var_names) == len(adata_pred.var_names)\n",
    "    \n",
    "    gpd_name = \"gpd_{}\".format(model_name)\n",
    "    library_id = list(adata_true.uns[\"spatial\"].keys())[0]\n",
    "    tissue_image = adata_true.uns[\"spatial\"][library_id][\"images\"][\"fulres\"]\n",
    "    \n",
    "    adata_true.obsm[gpd_name] = gpd.GeoDataFrame(adata_true.obs,\n",
    "                                                 geometry=gpd.points_from_xy(\n",
    "                                                          adata_true.obs.imagecol, \n",
    "                                                          adata_true.obs.imagerow))\n",
    "    w = Queen.from_dataframe(adata_true.obsm[gpd_name])\n",
    "    \n",
    "    spatial_autocorr_label = []\n",
    "    moran_i = []\n",
    "    n_sigs = []\n",
    "    for gene in adata_true.var_names:\n",
    "        x = np.array(adata_true.to_df()[gene].values, dtype='float')\n",
    "        y = np.array(adata_pred.to_df()[gene].values, dtype='float')\n",
    "        \n",
    "        adata_true.obsm[gpd_name][\"gc_{}\".format(gene)] = x\n",
    "        adata_true.obsm[gpd_name][\"pred_{}\".format(gene)] = y\n",
    "        \n",
    "#         moran = Moran(x,w)\n",
    "        moran_bv = Moran_BV(y, x, w)\n",
    "#         moran_loc = Moran_Local(x, w)\n",
    "        moran_loc_bv = Moran_Local_BV(y, x, w)\n",
    "        \n",
    "        labels, n_sig = hot_cold_label(moran_loc_bv, p)\n",
    "        spatial_autocorr_label.append(labels)\n",
    "        moran_i.append(moran_bv.I)\n",
    "        n_sigs.append(n_sig)\n",
    "        \n",
    "        if save_plots:\n",
    "            lisa_cluster(moran_loc_bv, adata_true.obsm[gpd_name], p=0.05, \n",
    "                         figsize = (9,9), markersize=12,)# **{\"alpha\":1})\n",
    "            plt.imshow(tissue_image)\n",
    "            plt.savefig(save_plots / \"lisa_cluster_{}\".format(gene))\n",
    "            \n",
    "        adata_true.obsm[gpd_name].drop([\"gc_{}\".format(gene),\n",
    "                                        \"pred_{}\".format(gene)], inplace=True, axis=1)\n",
    "    \n",
    "    label_array = np.array(spatial_autocorr_label).transpose()\n",
    "    \n",
    "    n_zero = (adata_true.to_df() == 0).apply(sum, axis=0) / len(adata_true.obs_names)\n",
    "    df = pd.DataFrame({\n",
    "        \"moran_i\":moran_i,\n",
    "        \"n_sigs\":n_sigs,\n",
    "        \"n_zero\":n_zero\n",
    "    }, index=adata_true.var_names)\n",
    "    return df\n",
    "\n",
    "\n",
    "def hot_cold_label(moran_loc, p):\n",
    "    cluster = moran_hot_cold_spots(moran_loc, p)\n",
    "    cluster_labels = ['ns', 'HH', 'LH', 'LL', 'HL']\n",
    "    labels = [cluster_labels[i] for i in cluster]\n",
    "    n_sig = labels.count('HH') + labels.count('LL')\n",
    "    return labels, n_sig"
   ]
  },
  {
   "cell_type": "code",
   "execution_count": 4,
   "id": "fdc0a17d",
   "metadata": {},
   "outputs": [],
   "source": [
    "def pearson_r2(adata_true: AnnData,\n",
    "                     adata_pred: AnnData,\n",
    "                     model_name: str,\n",
    "                     p: float = 0.05,\n",
    "                     save_plots: str = None,\n",
    ") -> Optional[AnnData]:\n",
    "    \n",
    "    assert len(adata_true.var_names) == len(adata_pred.var_names)\n",
    "    \n",
    "    gpd_name = \"gpd_{}\".format(model_name)\n",
    "    library_id = list(adata_true.uns[\"spatial\"].keys())[0]\n",
    "    tissue_image = adata_true.uns[\"spatial\"][library_id][\"images\"][\"fulres\"]\n",
    "    \n",
    "    pearson_r_list =[]\n",
    "    for gene in adata_true.var_names:\n",
    "        x = np.array(adata_true.to_df()[gene].values, dtype='float')\n",
    "        y = np.array(adata_pred.to_df()[gene].values, dtype='float')\n",
    "        \n",
    "        r_value = stats.pearsonr(x, \n",
    "                                 y)[0] **2\n",
    "        pearson_r_list.append(r_value)\n",
    "    \n",
    "    label_array = np.array(pearson_r_list).transpose()\n",
    "    \n",
    "    n_zero = (adata_true.to_df() == 0).apply(sum, axis=0) / len(adata_true.obs_names)\n",
    "    df = pd.DataFrame({\n",
    "        \"r2\":pearson_r_list,\n",
    "        \"n_zero\":n_zero\n",
    "    }, index=adata_true.var_names)\n",
    "    return df"
   ]
  },
  {
   "cell_type": "code",
   "execution_count": 5,
   "id": "b598e7b7",
   "metadata": {},
   "outputs": [],
   "source": [
    "from matplotlib import patches, colors\n",
    "def lisa_cluster(moran_loc, gdf, p=0.05, ax=None,\n",
    "                 legend=True, legend_kwds=None, **kwargs):\n",
    "    \"\"\"\n",
    "    Create a LISA Cluster map\n",
    "    Parameters\n",
    "    ----------\n",
    "    moran_loc : esda.moran.Moran_Local or Moran_Local_BV instance\n",
    "        Values of Moran's Local Autocorrelation Statistic\n",
    "    gdf : geopandas dataframe instance\n",
    "        The Dataframe containing information to plot. Note that `gdf` will be\n",
    "        modified, so calling functions should use a copy of the user\n",
    "        provided `gdf`. (either using gdf.assign() or gdf.copy())\n",
    "    p : float, optional\n",
    "        The p-value threshold for significance. Points will\n",
    "        be colored by significance.\n",
    "    ax : matplotlib Axes instance, optional\n",
    "        Axes in which to plot the figure in multiple Axes layout.\n",
    "        Default = None\n",
    "    legend : boolean, optional\n",
    "        If True, legend for maps will be depicted. Default = True\n",
    "    legend_kwds : dict, optional\n",
    "        Dictionary to control legend formatting options. Example:\n",
    "        ``legend_kwds={'loc': 'upper left', 'bbox_to_anchor': (0.92, 1.05)}``\n",
    "        Default = None\n",
    "    **kwargs : keyword arguments, optional\n",
    "        Keywords designing and passed to geopandas.GeoDataFrame.plot().\n",
    "    Returns\n",
    "    -------\n",
    "    fig : matplotlip Figure instance\n",
    "        Figure of LISA cluster map\n",
    "    ax : matplotlib Axes instance\n",
    "        Axes in which the figure is plotted\n",
    "    Examples\n",
    "    --------\n",
    "    Imports\n",
    "    \n",
    "    >>> import matplotlib.pyplot as plt\n",
    "    >>> from libpysal.weights.contiguity import Queen\n",
    "    >>> from libpysal import examples\n",
    "    >>> import geopandas as gpd\n",
    "    >>> from esda.moran import Moran_Local\n",
    "    >>> from splot.esda import lisa_cluster\n",
    "    Data preparation and statistical analysis\n",
    "    \n",
    "    >>> guerry = examples.load_example('Guerry')\n",
    "    >>> link_to_data = guerry.get_path('guerry.shp')\n",
    "    >>> gdf = gpd.read_file(link_to_data)\n",
    "    >>> y = gdf['Donatns'].values\n",
    "    >>> w = Queen.from_dataframe(gdf)\n",
    "    >>> w.transform = 'r'\n",
    "    >>> moran_loc = Moran_Local(y, w)\n",
    "    Plotting\n",
    "    \n",
    "    >>> fig = lisa_cluster(moran_loc, gdf)\n",
    "    >>> plt.show()\n",
    "    \n",
    "    \"\"\"\n",
    "    # retrieve colors5 and labels from mask_local_auto\n",
    "    _, colors5, _, labels = mask_local_auto(moran_loc, p=p)\n",
    "\n",
    "    # define ListedColormap\n",
    "    hmap = colors.ListedColormap(colors5)\n",
    "\n",
    "    if ax is None:\n",
    "        figsize = kwargs.pop('figsize', None)\n",
    "        fig, ax = plt.subplots(1, figsize=figsize)\n",
    "    else:\n",
    "        fig = ax.get_figure()\n",
    "\n",
    "    gdf.assign(cl=labels).plot(column='cl', categorical=True,\n",
    "                               k=2, cmap=hmap, linewidth=0.1, ax=ax,\n",
    "                               edgecolor='white', legend=legend,\n",
    "                               legend_kwds=legend_kwds, **kwargs)\n",
    "    ax.set_axis_off()\n",
    "    ax.set_aspect('equal')\n",
    "    return fig, ax\n",
    "\n",
    "\n",
    "def mask_local_auto(moran_loc, p=0.5):\n",
    "    '''\n",
    "    Create Mask for coloration and labeling of local spatial autocorrelation\n",
    "    Parameters\n",
    "    ----------\n",
    "    moran_loc : esda.moran.Moran_Local instance\n",
    "        values of Moran's I Global Autocorrelation Statistic\n",
    "    p : float\n",
    "        The p-value threshold for significance. Points will\n",
    "        be colored by significance.\n",
    "    Returns\n",
    "    -------\n",
    "    cluster_labels : list of str\n",
    "        List of labels - ['ns', 'HH', 'LH', 'LL', 'HL']\n",
    "    colors5 : list of str\n",
    "        List of colours - ['#d7191c', '#fdae61', '#abd9e9',\n",
    "        '#2c7bb6', 'lightgrey']\n",
    "    colors : array of str\n",
    "        Array containing coloration for each input value/ shape.\n",
    "    labels : list of str\n",
    "        List of label for each attribute value/ polygon.\n",
    "    '''\n",
    "    # create a mask for local spatial autocorrelation\n",
    "    cluster = moran_hot_cold_spots(moran_loc, p)\n",
    "\n",
    "    cluster_labels = ['ns', 'HH', 'LH', 'LL', 'HL']\n",
    "    labels = [cluster_labels[i] for i in cluster]\n",
    "\n",
    "    colors5 = {0: '#ffffff00',\n",
    "               1: '#d7191cff',\n",
    "               2: '#abd9e9ff',\n",
    "               3: '#2c7bb6ff',\n",
    "               4: '#fdae61ff'}\n",
    "    colors = [colors5[i] for i in cluster]  # for Bokeh\n",
    "    # for MPL, keeps colors even if clusters are missing:\n",
    "    x = np.array(labels)\n",
    "    y = np.unique(x)\n",
    "    colors5_mpl = {'HH': '#d7191cff',\n",
    "                   'LH': '#abd9e9ff',\n",
    "                   'LL': '#2c7bb6ff',\n",
    "                   'HL': '#fdae61ff',\n",
    "                   'ns': '#ffffff00'}\n",
    "    colors5 = [colors5_mpl[i] for i in y]  # for mpl\n",
    "\n",
    "    # HACK need this, because MPL sorts these labels while Bokeh does not\n",
    "    cluster_labels.sort()\n",
    "    return cluster_labels, colors5, colors, labels\n",
    "\n",
    "\n",
    "def moran_hot_cold_spots(moran_loc, p=0.05):\n",
    "    sig = 1 * (moran_loc.p_sim < p)\n",
    "    HH = 1 * (sig * moran_loc.q == 1)\n",
    "    LL = 3 * (sig * moran_loc.q == 3)\n",
    "    LH = 2 * (sig * moran_loc.q == 2)\n",
    "    HL = 4 * (sig * moran_loc.q == 4)\n",
    "    cluster = HH + LL + LH + HL\n",
    "    return cluster"
   ]
  },
  {
   "cell_type": "code",
   "execution_count": 6,
   "id": "a0259727",
   "metadata": {},
   "outputs": [],
   "source": [
    "from scipy import stats\n",
    "\n",
    "def plot_correlation(df, attr_1, attr_2):\n",
    "    r = stats.pearsonr(df[attr_1], \n",
    "                       df[attr_2])[0] **2\n",
    "\n",
    "    g = sns.lmplot(data=df,\n",
    "        x=attr_1, y=attr_2,\n",
    "        height=5, legend=True\n",
    "    )\n",
    "    # g.set(ylim=(0, 360), xlim=(0,360))\n",
    "\n",
    "    g.set_axis_labels(attr_1, attr_2)\n",
    "    plt.annotate(r'$R^2:{0:.2f}$'.format(r),\n",
    "                (max(df[attr_1])*0.9, max(df[attr_2])*0.9))\n",
    "    return g"
   ]
  },
  {
   "cell_type": "code",
   "execution_count": 7,
   "id": "f788bead",
   "metadata": {},
   "outputs": [],
   "source": [
    "def merge(\n",
    "        adata1: AnnData,\n",
    "        adata2: AnnData,\n",
    "        copy: bool = True,\n",
    "\n",
    ") -> Optional[AnnData]:\n",
    "    merged_df = adata1.to_df().append(adata2.to_df())\n",
    "    merged_df_obs = adata1.obs.append(adata2.obs)\n",
    "    merged_adata = AnnData(merged_df, obs=merged_df_obs)\n",
    "    merged_adata.uns[\"spatial\"] = adata1.uns[\"spatial\"]\n",
    "    \n",
    "    return merged_adata if copy else None"
   ]
  },
  {
   "cell_type": "code",
   "execution_count": 8,
   "id": "cf991a55",
   "metadata": {},
   "outputs": [],
   "source": [
    "BASE_PATH = Path(\"/home/uqxtan9/90days\")\n",
    "TILE_PATH = Path(\"/tmp/tiles\")\n",
    "TILE_PATH.mkdir(parents=True, exist_ok=True)"
   ]
  },
  {
   "cell_type": "code",
   "execution_count": 9,
   "id": "76f7e631",
   "metadata": {},
   "outputs": [],
   "source": [
    "OUT_PATH = Path(\"/home/uqxtan9/90days/stlearn_revision2/imputation_bc\")\n",
    "OUT_PATH.mkdir(parents=True, exist_ok=True)"
   ]
  },
  {
   "cell_type": "code",
   "execution_count": 10,
   "id": "39620899",
   "metadata": {},
   "outputs": [
    {
     "name": "stderr",
     "output_type": "stream",
     "text": [
      "Variable names are not unique. To make them unique, call `.var_names_make_unique`.\n",
      "Variable names are not unique. To make them unique, call `.var_names_make_unique`.\n"
     ]
    }
   ],
   "source": [
    "SAMPLE = \"block1\"\n",
    "Sample1 = st.Read10X(BASE_PATH / \"breast_cancer_10x\", \n",
    "                     library_id=SAMPLE,\n",
    "                     quality=\"fulres\",)\n",
    "img = plt.imread(BASE_PATH / \"breast_cancer_10x\" /\"V1_Breast_Cancer_Block_A_Section_1_image.tif\", 0)\n",
    "Sample1.uns[\"spatial\"][SAMPLE]['images'][\"fulres\"] = img"
   ]
  },
  {
   "cell_type": "code",
   "execution_count": 11,
   "id": "c190e94c",
   "metadata": {},
   "outputs": [
    {
     "name": "stderr",
     "output_type": "stream",
     "text": [
      "Variable names are not unique. To make them unique, call `.var_names_make_unique`.\n",
      "Variable names are not unique. To make them unique, call `.var_names_make_unique`.\n"
     ]
    }
   ],
   "source": [
    "SAMPLE = \"block2\"\n",
    "Sample2 = st.Read10X(BASE_PATH / \"breast_cancer_2_10x\", \n",
    "                     library_id=SAMPLE,\n",
    "                     quality=\"fulres\",)\n",
    "img = plt.imread(BASE_PATH / \"breast_cancer_2_10x\" /\"V1_Breast_Cancer_Block_A_Section_2_image.tif\", 0)\n",
    "Sample2.uns[\"spatial\"][SAMPLE]['images'][\"fulres\"] = img"
   ]
  },
  {
   "cell_type": "code",
   "execution_count": 12,
   "id": "f0be95af",
   "metadata": {
    "collapsed": true
   },
   "outputs": [
    {
     "name": "stdout",
     "output_type": "stream",
     "text": [
      "Normalization step is finished in adata.X\n",
      "Log transformation step is finished in adata.X\n"
     ]
    },
    {
     "ename": "KeyboardInterrupt",
     "evalue": "",
     "output_type": "error",
     "traceback": [
      "\u001b[0;31m---------------------------------------------------------------------------\u001b[0m",
      "\u001b[0;31mKeyboardInterrupt\u001b[0m                         Traceback (most recent call last)",
      "\u001b[0;32m/scratch/tmp/pbs.462419.delta2/ipykernel_11569/449973376.py\u001b[0m in \u001b[0;36m<module>\u001b[0;34m\u001b[0m\n\u001b[1;32m      7\u001b[0m     \u001b[0mst\u001b[0m\u001b[0;34m.\u001b[0m\u001b[0mpp\u001b[0m\u001b[0;34m.\u001b[0m\u001b[0mlog1p\u001b[0m\u001b[0;34m(\u001b[0m\u001b[0mandata\u001b[0m\u001b[0;34m)\u001b[0m\u001b[0;34m\u001b[0m\u001b[0;34m\u001b[0m\u001b[0m\n\u001b[1;32m      8\u001b[0m \u001b[0;31m#     st.pp.scale(andata)\u001b[0m\u001b[0;34m\u001b[0m\u001b[0;34m\u001b[0m\u001b[0;34m\u001b[0m\u001b[0m\n\u001b[0;32m----> 9\u001b[0;31m     \u001b[0mst\u001b[0m\u001b[0;34m.\u001b[0m\u001b[0mem\u001b[0m\u001b[0;34m.\u001b[0m\u001b[0mrun_pca\u001b[0m\u001b[0;34m(\u001b[0m\u001b[0mandata\u001b[0m\u001b[0;34m,\u001b[0m\u001b[0mn_comps\u001b[0m\u001b[0;34m=\u001b[0m\u001b[0;36m50\u001b[0m\u001b[0;34m)\u001b[0m\u001b[0;34m\u001b[0m\u001b[0;34m\u001b[0m\u001b[0m\n\u001b[0m\u001b[1;32m     10\u001b[0m     \u001b[0mTILE_PATH_\u001b[0m \u001b[0;34m=\u001b[0m \u001b[0mTILE_PATH\u001b[0m \u001b[0;34m/\u001b[0m \u001b[0mlist\u001b[0m\u001b[0;34m(\u001b[0m\u001b[0mSample1\u001b[0m\u001b[0;34m.\u001b[0m\u001b[0muns\u001b[0m\u001b[0;34m[\u001b[0m\u001b[0;34m\"spatial\"\u001b[0m\u001b[0;34m]\u001b[0m\u001b[0;34m.\u001b[0m\u001b[0mkeys\u001b[0m\u001b[0;34m(\u001b[0m\u001b[0;34m)\u001b[0m\u001b[0;34m)\u001b[0m\u001b[0;34m[\u001b[0m\u001b[0;36m0\u001b[0m\u001b[0;34m]\u001b[0m\u001b[0;34m\u001b[0m\u001b[0;34m\u001b[0m\u001b[0m\n\u001b[1;32m     11\u001b[0m     \u001b[0mst\u001b[0m\u001b[0;34m.\u001b[0m\u001b[0mpp\u001b[0m\u001b[0;34m.\u001b[0m\u001b[0mtiling\u001b[0m\u001b[0;34m(\u001b[0m\u001b[0mandata\u001b[0m\u001b[0;34m,\u001b[0m \u001b[0mTILE_PATH_\u001b[0m\u001b[0;34m,\u001b[0m \u001b[0mcrop_size\u001b[0m\u001b[0;34m=\u001b[0m\u001b[0;36m299\u001b[0m\u001b[0;34m)\u001b[0m\u001b[0;34m\u001b[0m\u001b[0;34m\u001b[0m\u001b[0m\n",
      "\u001b[0;32m~/90days/.conda/envs/stlearn/lib/python3.8/site-packages/stlearn/embedding/pca.py\u001b[0m in \u001b[0;36mrun_pca\u001b[0;34m(data, n_comps, zero_center, svd_solver, random_state, return_info, use_highly_variable, dtype, copy, chunked, chunk_size)\u001b[0m\n\u001b[1;32m     86\u001b[0m     \"\"\"\n\u001b[1;32m     87\u001b[0m \u001b[0;34m\u001b[0m\u001b[0m\n\u001b[0;32m---> 88\u001b[0;31m     scanpy.pp.pca(\n\u001b[0m\u001b[1;32m     89\u001b[0m         \u001b[0mdata\u001b[0m\u001b[0;34m,\u001b[0m\u001b[0;34m\u001b[0m\u001b[0;34m\u001b[0m\u001b[0m\n\u001b[1;32m     90\u001b[0m         \u001b[0mn_comps\u001b[0m\u001b[0;34m=\u001b[0m\u001b[0mn_comps\u001b[0m\u001b[0;34m,\u001b[0m\u001b[0;34m\u001b[0m\u001b[0;34m\u001b[0m\u001b[0m\n",
      "\u001b[0;32m~/90days/.conda/envs/stlearn/lib/python3.8/site-packages/scanpy/preprocessing/_pca.py\u001b[0m in \u001b[0;36mpca\u001b[0;34m(data, n_comps, zero_center, svd_solver, random_state, return_info, use_highly_variable, dtype, copy, chunked, chunk_size)\u001b[0m\n\u001b[1;32m    198\u001b[0m             )\n\u001b[1;32m    199\u001b[0m \u001b[0;34m\u001b[0m\u001b[0m\n\u001b[0;32m--> 200\u001b[0;31m         output = _pca_with_sparse(\n\u001b[0m\u001b[1;32m    201\u001b[0m             \u001b[0mX\u001b[0m\u001b[0;34m,\u001b[0m \u001b[0mn_comps\u001b[0m\u001b[0;34m,\u001b[0m \u001b[0msolver\u001b[0m\u001b[0;34m=\u001b[0m\u001b[0msvd_solver\u001b[0m\u001b[0;34m,\u001b[0m \u001b[0mrandom_state\u001b[0m\u001b[0;34m=\u001b[0m\u001b[0mrandom_state\u001b[0m\u001b[0;34m\u001b[0m\u001b[0;34m\u001b[0m\u001b[0m\n\u001b[1;32m    202\u001b[0m         )\n",
      "\u001b[0;32m~/90days/.conda/envs/stlearn/lib/python3.8/site-packages/scanpy/preprocessing/_pca.py\u001b[0m in \u001b[0;36m_pca_with_sparse\u001b[0;34m(X, npcs, solver, mu, random_state)\u001b[0m\n\u001b[1;32m    301\u001b[0m     )\n\u001b[1;32m    302\u001b[0m \u001b[0;34m\u001b[0m\u001b[0m\n\u001b[0;32m--> 303\u001b[0;31m     \u001b[0mu\u001b[0m\u001b[0;34m,\u001b[0m \u001b[0ms\u001b[0m\u001b[0;34m,\u001b[0m \u001b[0mv\u001b[0m \u001b[0;34m=\u001b[0m \u001b[0msvds\u001b[0m\u001b[0;34m(\u001b[0m\u001b[0mXL\u001b[0m\u001b[0;34m,\u001b[0m \u001b[0msolver\u001b[0m\u001b[0;34m=\u001b[0m\u001b[0msolver\u001b[0m\u001b[0;34m,\u001b[0m \u001b[0mk\u001b[0m\u001b[0;34m=\u001b[0m\u001b[0mnpcs\u001b[0m\u001b[0;34m,\u001b[0m \u001b[0mv0\u001b[0m\u001b[0;34m=\u001b[0m\u001b[0mrandom_init\u001b[0m\u001b[0;34m)\u001b[0m\u001b[0;34m\u001b[0m\u001b[0;34m\u001b[0m\u001b[0m\n\u001b[0m\u001b[1;32m    304\u001b[0m     \u001b[0mu\u001b[0m\u001b[0;34m,\u001b[0m \u001b[0mv\u001b[0m \u001b[0;34m=\u001b[0m \u001b[0msvd_flip\u001b[0m\u001b[0;34m(\u001b[0m\u001b[0mu\u001b[0m\u001b[0;34m,\u001b[0m \u001b[0mv\u001b[0m\u001b[0;34m)\u001b[0m\u001b[0;34m\u001b[0m\u001b[0;34m\u001b[0m\u001b[0m\n\u001b[1;32m    305\u001b[0m     \u001b[0midx\u001b[0m \u001b[0;34m=\u001b[0m \u001b[0mnp\u001b[0m\u001b[0;34m.\u001b[0m\u001b[0margsort\u001b[0m\u001b[0;34m(\u001b[0m\u001b[0;34m-\u001b[0m\u001b[0ms\u001b[0m\u001b[0;34m)\u001b[0m\u001b[0;34m\u001b[0m\u001b[0;34m\u001b[0m\u001b[0m\n",
      "\u001b[0;32m~/90days/.conda/envs/stlearn/lib/python3.8/site-packages/scipy/sparse/linalg/eigen/arpack/arpack.py\u001b[0m in \u001b[0;36msvds\u001b[0;34m(A, k, ncv, tol, which, v0, maxiter, return_singular_vectors, solver)\u001b[0m\n\u001b[1;32m   1867\u001b[0m \u001b[0;34m\u001b[0m\u001b[0m\n\u001b[1;32m   1868\u001b[0m     \u001b[0;32melif\u001b[0m \u001b[0msolver\u001b[0m \u001b[0;34m==\u001b[0m \u001b[0;34m'arpack'\u001b[0m \u001b[0;32mor\u001b[0m \u001b[0msolver\u001b[0m \u001b[0;32mis\u001b[0m \u001b[0;32mNone\u001b[0m\u001b[0;34m:\u001b[0m\u001b[0;34m\u001b[0m\u001b[0;34m\u001b[0m\u001b[0m\n\u001b[0;32m-> 1869\u001b[0;31m         eigvals, eigvec = eigsh(XH_X, k=k, tol=tol ** 2, maxiter=maxiter,\n\u001b[0m\u001b[1;32m   1870\u001b[0m                                 ncv=ncv, which=which, v0=v0)\n\u001b[1;32m   1871\u001b[0m \u001b[0;34m\u001b[0m\u001b[0m\n",
      "\u001b[0;32m~/90days/.conda/envs/stlearn/lib/python3.8/site-packages/scipy/sparse/linalg/eigen/arpack/arpack.py\u001b[0m in \u001b[0;36meigsh\u001b[0;34m(A, k, M, sigma, which, v0, ncv, maxiter, tol, return_eigenvectors, Minv, OPinv, mode)\u001b[0m\n\u001b[1;32m   1688\u001b[0m     \u001b[0;32mwith\u001b[0m \u001b[0m_ARPACK_LOCK\u001b[0m\u001b[0;34m:\u001b[0m\u001b[0;34m\u001b[0m\u001b[0;34m\u001b[0m\u001b[0m\n\u001b[1;32m   1689\u001b[0m         \u001b[0;32mwhile\u001b[0m \u001b[0;32mnot\u001b[0m \u001b[0mparams\u001b[0m\u001b[0;34m.\u001b[0m\u001b[0mconverged\u001b[0m\u001b[0;34m:\u001b[0m\u001b[0;34m\u001b[0m\u001b[0;34m\u001b[0m\u001b[0m\n\u001b[0;32m-> 1690\u001b[0;31m             \u001b[0mparams\u001b[0m\u001b[0;34m.\u001b[0m\u001b[0miterate\u001b[0m\u001b[0;34m(\u001b[0m\u001b[0;34m)\u001b[0m\u001b[0;34m\u001b[0m\u001b[0;34m\u001b[0m\u001b[0m\n\u001b[0m\u001b[1;32m   1691\u001b[0m \u001b[0;34m\u001b[0m\u001b[0m\n\u001b[1;32m   1692\u001b[0m         \u001b[0;32mreturn\u001b[0m \u001b[0mparams\u001b[0m\u001b[0;34m.\u001b[0m\u001b[0mextract\u001b[0m\u001b[0;34m(\u001b[0m\u001b[0mreturn_eigenvectors\u001b[0m\u001b[0;34m)\u001b[0m\u001b[0;34m\u001b[0m\u001b[0;34m\u001b[0m\u001b[0m\n",
      "\u001b[0;32m~/90days/.conda/envs/stlearn/lib/python3.8/site-packages/scipy/sparse/linalg/eigen/arpack/arpack.py\u001b[0m in \u001b[0;36miterate\u001b[0;34m(self)\u001b[0m\n\u001b[1;32m    546\u001b[0m             \u001b[0;31m# compute y = Op*x\u001b[0m\u001b[0;34m\u001b[0m\u001b[0;34m\u001b[0m\u001b[0;34m\u001b[0m\u001b[0m\n\u001b[1;32m    547\u001b[0m             \u001b[0;32mif\u001b[0m \u001b[0mself\u001b[0m\u001b[0;34m.\u001b[0m\u001b[0mmode\u001b[0m \u001b[0;34m==\u001b[0m \u001b[0;36m1\u001b[0m\u001b[0;34m:\u001b[0m\u001b[0;34m\u001b[0m\u001b[0;34m\u001b[0m\u001b[0m\n\u001b[0;32m--> 548\u001b[0;31m                 \u001b[0mself\u001b[0m\u001b[0;34m.\u001b[0m\u001b[0mworkd\u001b[0m\u001b[0;34m[\u001b[0m\u001b[0myslice\u001b[0m\u001b[0;34m]\u001b[0m \u001b[0;34m=\u001b[0m \u001b[0mself\u001b[0m\u001b[0;34m.\u001b[0m\u001b[0mOP\u001b[0m\u001b[0;34m(\u001b[0m\u001b[0mself\u001b[0m\u001b[0;34m.\u001b[0m\u001b[0mworkd\u001b[0m\u001b[0;34m[\u001b[0m\u001b[0mxslice\u001b[0m\u001b[0;34m]\u001b[0m\u001b[0;34m)\u001b[0m\u001b[0;34m\u001b[0m\u001b[0;34m\u001b[0m\u001b[0m\n\u001b[0m\u001b[1;32m    549\u001b[0m             \u001b[0;32melif\u001b[0m \u001b[0mself\u001b[0m\u001b[0;34m.\u001b[0m\u001b[0mmode\u001b[0m \u001b[0;34m==\u001b[0m \u001b[0;36m2\u001b[0m\u001b[0;34m:\u001b[0m\u001b[0;34m\u001b[0m\u001b[0;34m\u001b[0m\u001b[0m\n\u001b[1;32m    550\u001b[0m                 \u001b[0mself\u001b[0m\u001b[0;34m.\u001b[0m\u001b[0mworkd\u001b[0m\u001b[0;34m[\u001b[0m\u001b[0mxslice\u001b[0m\u001b[0;34m]\u001b[0m \u001b[0;34m=\u001b[0m \u001b[0mself\u001b[0m\u001b[0;34m.\u001b[0m\u001b[0mOPb\u001b[0m\u001b[0;34m(\u001b[0m\u001b[0mself\u001b[0m\u001b[0;34m.\u001b[0m\u001b[0mworkd\u001b[0m\u001b[0;34m[\u001b[0m\u001b[0mxslice\u001b[0m\u001b[0;34m]\u001b[0m\u001b[0;34m)\u001b[0m\u001b[0;34m\u001b[0m\u001b[0;34m\u001b[0m\u001b[0m\n",
      "\u001b[0;32m~/90days/.conda/envs/stlearn/lib/python3.8/site-packages/scipy/sparse/linalg/interface.py\u001b[0m in \u001b[0;36mmatvec\u001b[0;34m(self, x)\u001b[0m\n\u001b[1;32m    230\u001b[0m             \u001b[0;32mraise\u001b[0m \u001b[0mValueError\u001b[0m\u001b[0;34m(\u001b[0m\u001b[0;34m'dimension mismatch'\u001b[0m\u001b[0;34m)\u001b[0m\u001b[0;34m\u001b[0m\u001b[0;34m\u001b[0m\u001b[0m\n\u001b[1;32m    231\u001b[0m \u001b[0;34m\u001b[0m\u001b[0m\n\u001b[0;32m--> 232\u001b[0;31m         \u001b[0my\u001b[0m \u001b[0;34m=\u001b[0m \u001b[0mself\u001b[0m\u001b[0;34m.\u001b[0m\u001b[0m_matvec\u001b[0m\u001b[0;34m(\u001b[0m\u001b[0mx\u001b[0m\u001b[0;34m)\u001b[0m\u001b[0;34m\u001b[0m\u001b[0;34m\u001b[0m\u001b[0m\n\u001b[0m\u001b[1;32m    233\u001b[0m \u001b[0;34m\u001b[0m\u001b[0m\n\u001b[1;32m    234\u001b[0m         \u001b[0;32mif\u001b[0m \u001b[0misinstance\u001b[0m\u001b[0;34m(\u001b[0m\u001b[0mx\u001b[0m\u001b[0;34m,\u001b[0m \u001b[0mnp\u001b[0m\u001b[0;34m.\u001b[0m\u001b[0mmatrix\u001b[0m\u001b[0;34m)\u001b[0m\u001b[0;34m:\u001b[0m\u001b[0;34m\u001b[0m\u001b[0;34m\u001b[0m\u001b[0m\n",
      "\u001b[0;32m~/90days/.conda/envs/stlearn/lib/python3.8/site-packages/scipy/sparse/linalg/interface.py\u001b[0m in \u001b[0;36m_matvec\u001b[0;34m(self, x)\u001b[0m\n\u001b[1;32m    528\u001b[0m \u001b[0;34m\u001b[0m\u001b[0m\n\u001b[1;32m    529\u001b[0m     \u001b[0;32mdef\u001b[0m \u001b[0m_matvec\u001b[0m\u001b[0;34m(\u001b[0m\u001b[0mself\u001b[0m\u001b[0;34m,\u001b[0m \u001b[0mx\u001b[0m\u001b[0;34m)\u001b[0m\u001b[0;34m:\u001b[0m\u001b[0;34m\u001b[0m\u001b[0;34m\u001b[0m\u001b[0m\n\u001b[0;32m--> 530\u001b[0;31m         \u001b[0;32mreturn\u001b[0m \u001b[0mself\u001b[0m\u001b[0;34m.\u001b[0m\u001b[0m__matvec_impl\u001b[0m\u001b[0;34m(\u001b[0m\u001b[0mx\u001b[0m\u001b[0;34m)\u001b[0m\u001b[0;34m\u001b[0m\u001b[0;34m\u001b[0m\u001b[0m\n\u001b[0m\u001b[1;32m    531\u001b[0m \u001b[0;34m\u001b[0m\u001b[0m\n\u001b[1;32m    532\u001b[0m     \u001b[0;32mdef\u001b[0m \u001b[0m_rmatvec\u001b[0m\u001b[0;34m(\u001b[0m\u001b[0mself\u001b[0m\u001b[0;34m,\u001b[0m \u001b[0mx\u001b[0m\u001b[0;34m)\u001b[0m\u001b[0;34m:\u001b[0m\u001b[0;34m\u001b[0m\u001b[0;34m\u001b[0m\u001b[0m\n",
      "\u001b[0;32m~/90days/.conda/envs/stlearn/lib/python3.8/site-packages/scipy/sparse/linalg/eigen/arpack/arpack.py\u001b[0m in \u001b[0;36mmatvec_XH_X\u001b[0;34m(x)\u001b[0m\n\u001b[1;32m   1845\u001b[0m \u001b[0;34m\u001b[0m\u001b[0m\n\u001b[1;32m   1846\u001b[0m     \u001b[0;32mdef\u001b[0m \u001b[0mmatvec_XH_X\u001b[0m\u001b[0;34m(\u001b[0m\u001b[0mx\u001b[0m\u001b[0;34m)\u001b[0m\u001b[0;34m:\u001b[0m\u001b[0;34m\u001b[0m\u001b[0;34m\u001b[0m\u001b[0m\n\u001b[0;32m-> 1847\u001b[0;31m         \u001b[0;32mreturn\u001b[0m \u001b[0mXH_dot\u001b[0m\u001b[0;34m(\u001b[0m\u001b[0mX_dot\u001b[0m\u001b[0;34m(\u001b[0m\u001b[0mx\u001b[0m\u001b[0;34m)\u001b[0m\u001b[0;34m)\u001b[0m\u001b[0;34m\u001b[0m\u001b[0;34m\u001b[0m\u001b[0m\n\u001b[0m\u001b[1;32m   1848\u001b[0m \u001b[0;34m\u001b[0m\u001b[0m\n\u001b[1;32m   1849\u001b[0m     \u001b[0;32mdef\u001b[0m \u001b[0mmatmat_XH_X\u001b[0m\u001b[0;34m(\u001b[0m\u001b[0mx\u001b[0m\u001b[0;34m)\u001b[0m\u001b[0;34m:\u001b[0m\u001b[0;34m\u001b[0m\u001b[0;34m\u001b[0m\u001b[0m\n",
      "\u001b[0;32m~/90days/.conda/envs/stlearn/lib/python3.8/site-packages/scipy/sparse/linalg/interface.py\u001b[0m in \u001b[0;36mrmatvec\u001b[0;34m(self, x)\u001b[0m\n\u001b[1;32m    277\u001b[0m             \u001b[0;32mraise\u001b[0m \u001b[0mValueError\u001b[0m\u001b[0;34m(\u001b[0m\u001b[0;34m'dimension mismatch'\u001b[0m\u001b[0;34m)\u001b[0m\u001b[0;34m\u001b[0m\u001b[0;34m\u001b[0m\u001b[0m\n\u001b[1;32m    278\u001b[0m \u001b[0;34m\u001b[0m\u001b[0m\n\u001b[0;32m--> 279\u001b[0;31m         \u001b[0my\u001b[0m \u001b[0;34m=\u001b[0m \u001b[0mself\u001b[0m\u001b[0;34m.\u001b[0m\u001b[0m_rmatvec\u001b[0m\u001b[0;34m(\u001b[0m\u001b[0mx\u001b[0m\u001b[0;34m)\u001b[0m\u001b[0;34m\u001b[0m\u001b[0;34m\u001b[0m\u001b[0m\n\u001b[0m\u001b[1;32m    280\u001b[0m \u001b[0;34m\u001b[0m\u001b[0m\n\u001b[1;32m    281\u001b[0m         \u001b[0;32mif\u001b[0m \u001b[0misinstance\u001b[0m\u001b[0;34m(\u001b[0m\u001b[0mx\u001b[0m\u001b[0;34m,\u001b[0m \u001b[0mnp\u001b[0m\u001b[0;34m.\u001b[0m\u001b[0mmatrix\u001b[0m\u001b[0;34m)\u001b[0m\u001b[0;34m:\u001b[0m\u001b[0;34m\u001b[0m\u001b[0;34m\u001b[0m\u001b[0m\n",
      "\u001b[0;32m~/90days/.conda/envs/stlearn/lib/python3.8/site-packages/scipy/sparse/linalg/interface.py\u001b[0m in \u001b[0;36m_rmatvec\u001b[0;34m(self, x)\u001b[0m\n\u001b[1;32m    534\u001b[0m         \u001b[0;32mif\u001b[0m \u001b[0mfunc\u001b[0m \u001b[0;32mis\u001b[0m \u001b[0;32mNone\u001b[0m\u001b[0;34m:\u001b[0m\u001b[0;34m\u001b[0m\u001b[0;34m\u001b[0m\u001b[0m\n\u001b[1;32m    535\u001b[0m             \u001b[0;32mraise\u001b[0m \u001b[0mNotImplementedError\u001b[0m\u001b[0;34m(\u001b[0m\u001b[0;34m\"rmatvec is not defined\"\u001b[0m\u001b[0;34m)\u001b[0m\u001b[0;34m\u001b[0m\u001b[0;34m\u001b[0m\u001b[0m\n\u001b[0;32m--> 536\u001b[0;31m         \u001b[0;32mreturn\u001b[0m \u001b[0mself\u001b[0m\u001b[0;34m.\u001b[0m\u001b[0m__rmatvec_impl\u001b[0m\u001b[0;34m(\u001b[0m\u001b[0mx\u001b[0m\u001b[0;34m)\u001b[0m\u001b[0;34m\u001b[0m\u001b[0;34m\u001b[0m\u001b[0m\n\u001b[0m\u001b[1;32m    537\u001b[0m \u001b[0;34m\u001b[0m\u001b[0m\n\u001b[1;32m    538\u001b[0m     \u001b[0;32mdef\u001b[0m \u001b[0m_rmatmat\u001b[0m\u001b[0;34m(\u001b[0m\u001b[0mself\u001b[0m\u001b[0;34m,\u001b[0m \u001b[0mX\u001b[0m\u001b[0;34m)\u001b[0m\u001b[0;34m:\u001b[0m\u001b[0;34m\u001b[0m\u001b[0;34m\u001b[0m\u001b[0m\n",
      "\u001b[0;32m~/90days/.conda/envs/stlearn/lib/python3.8/site-packages/scanpy/preprocessing/_pca.py\u001b[0m in \u001b[0;36mrmatvec\u001b[0;34m(x)\u001b[0m\n\u001b[1;32m    287\u001b[0m \u001b[0;34m\u001b[0m\u001b[0m\n\u001b[1;32m    288\u001b[0m     \u001b[0;32mdef\u001b[0m \u001b[0mrmatvec\u001b[0m\u001b[0;34m(\u001b[0m\u001b[0mx\u001b[0m\u001b[0;34m)\u001b[0m\u001b[0;34m:\u001b[0m\u001b[0;34m\u001b[0m\u001b[0;34m\u001b[0m\u001b[0m\n\u001b[0;32m--> 289\u001b[0;31m         \u001b[0;32mreturn\u001b[0m \u001b[0mXHdot\u001b[0m\u001b[0;34m(\u001b[0m\u001b[0mx\u001b[0m\u001b[0;34m)\u001b[0m \u001b[0;34m-\u001b[0m \u001b[0mmhdot\u001b[0m\u001b[0;34m(\u001b[0m\u001b[0mones\u001b[0m\u001b[0;34m(\u001b[0m\u001b[0mx\u001b[0m\u001b[0;34m)\u001b[0m\u001b[0;34m)\u001b[0m\u001b[0;34m\u001b[0m\u001b[0;34m\u001b[0m\u001b[0m\n\u001b[0m\u001b[1;32m    290\u001b[0m \u001b[0;34m\u001b[0m\u001b[0m\n\u001b[1;32m    291\u001b[0m     \u001b[0;32mdef\u001b[0m \u001b[0mrmatmat\u001b[0m\u001b[0;34m(\u001b[0m\u001b[0mx\u001b[0m\u001b[0;34m)\u001b[0m\u001b[0;34m:\u001b[0m\u001b[0;34m\u001b[0m\u001b[0;34m\u001b[0m\u001b[0m\n",
      "\u001b[0;32m~/90days/.conda/envs/stlearn/lib/python3.8/site-packages/scipy/sparse/base.py\u001b[0m in \u001b[0;36mdot\u001b[0;34m(self, other)\u001b[0m\n\u001b[1;32m    357\u001b[0m \u001b[0;34m\u001b[0m\u001b[0m\n\u001b[1;32m    358\u001b[0m         \"\"\"\n\u001b[0;32m--> 359\u001b[0;31m         \u001b[0;32mreturn\u001b[0m \u001b[0mself\u001b[0m \u001b[0;34m*\u001b[0m \u001b[0mother\u001b[0m\u001b[0;34m\u001b[0m\u001b[0;34m\u001b[0m\u001b[0m\n\u001b[0m\u001b[1;32m    360\u001b[0m \u001b[0;34m\u001b[0m\u001b[0m\n\u001b[1;32m    361\u001b[0m     \u001b[0;32mdef\u001b[0m \u001b[0mpower\u001b[0m\u001b[0;34m(\u001b[0m\u001b[0mself\u001b[0m\u001b[0;34m,\u001b[0m \u001b[0mn\u001b[0m\u001b[0;34m,\u001b[0m \u001b[0mdtype\u001b[0m\u001b[0;34m=\u001b[0m\u001b[0;32mNone\u001b[0m\u001b[0;34m)\u001b[0m\u001b[0;34m:\u001b[0m\u001b[0;34m\u001b[0m\u001b[0;34m\u001b[0m\u001b[0m\n",
      "\u001b[0;32m~/90days/.conda/envs/stlearn/lib/python3.8/site-packages/scipy/sparse/base.py\u001b[0m in \u001b[0;36m__mul__\u001b[0;34m(self, other)\u001b[0m\n\u001b[1;32m    465\u001b[0m             \u001b[0;31m# Fast path for the most common case\u001b[0m\u001b[0;34m\u001b[0m\u001b[0;34m\u001b[0m\u001b[0;34m\u001b[0m\u001b[0m\n\u001b[1;32m    466\u001b[0m             \u001b[0;32mif\u001b[0m \u001b[0mother\u001b[0m\u001b[0;34m.\u001b[0m\u001b[0mshape\u001b[0m \u001b[0;34m==\u001b[0m \u001b[0;34m(\u001b[0m\u001b[0mN\u001b[0m\u001b[0;34m,\u001b[0m\u001b[0;34m)\u001b[0m\u001b[0;34m:\u001b[0m\u001b[0;34m\u001b[0m\u001b[0;34m\u001b[0m\u001b[0m\n\u001b[0;32m--> 467\u001b[0;31m                 \u001b[0;32mreturn\u001b[0m \u001b[0mself\u001b[0m\u001b[0;34m.\u001b[0m\u001b[0m_mul_vector\u001b[0m\u001b[0;34m(\u001b[0m\u001b[0mother\u001b[0m\u001b[0;34m)\u001b[0m\u001b[0;34m\u001b[0m\u001b[0;34m\u001b[0m\u001b[0m\n\u001b[0m\u001b[1;32m    468\u001b[0m             \u001b[0;32melif\u001b[0m \u001b[0mother\u001b[0m\u001b[0;34m.\u001b[0m\u001b[0mshape\u001b[0m \u001b[0;34m==\u001b[0m \u001b[0;34m(\u001b[0m\u001b[0mN\u001b[0m\u001b[0;34m,\u001b[0m \u001b[0;36m1\u001b[0m\u001b[0;34m)\u001b[0m\u001b[0;34m:\u001b[0m\u001b[0;34m\u001b[0m\u001b[0;34m\u001b[0m\u001b[0m\n\u001b[1;32m    469\u001b[0m                 \u001b[0;32mreturn\u001b[0m \u001b[0mself\u001b[0m\u001b[0;34m.\u001b[0m\u001b[0m_mul_vector\u001b[0m\u001b[0;34m(\u001b[0m\u001b[0mother\u001b[0m\u001b[0;34m.\u001b[0m\u001b[0mravel\u001b[0m\u001b[0;34m(\u001b[0m\u001b[0;34m)\u001b[0m\u001b[0;34m)\u001b[0m\u001b[0;34m.\u001b[0m\u001b[0mreshape\u001b[0m\u001b[0;34m(\u001b[0m\u001b[0mM\u001b[0m\u001b[0;34m,\u001b[0m \u001b[0;36m1\u001b[0m\u001b[0;34m)\u001b[0m\u001b[0;34m\u001b[0m\u001b[0;34m\u001b[0m\u001b[0m\n",
      "\u001b[0;32m~/90days/.conda/envs/stlearn/lib/python3.8/site-packages/scipy/sparse/compressed.py\u001b[0m in \u001b[0;36m_mul_vector\u001b[0;34m(self, other)\u001b[0m\n\u001b[1;32m    476\u001b[0m         \u001b[0;31m# csr_matvec or csc_matvec\u001b[0m\u001b[0;34m\u001b[0m\u001b[0;34m\u001b[0m\u001b[0;34m\u001b[0m\u001b[0m\n\u001b[1;32m    477\u001b[0m         \u001b[0mfn\u001b[0m \u001b[0;34m=\u001b[0m \u001b[0mgetattr\u001b[0m\u001b[0;34m(\u001b[0m\u001b[0m_sparsetools\u001b[0m\u001b[0;34m,\u001b[0m \u001b[0mself\u001b[0m\u001b[0;34m.\u001b[0m\u001b[0mformat\u001b[0m \u001b[0;34m+\u001b[0m \u001b[0;34m'_matvec'\u001b[0m\u001b[0;34m)\u001b[0m\u001b[0;34m\u001b[0m\u001b[0;34m\u001b[0m\u001b[0m\n\u001b[0;32m--> 478\u001b[0;31m         \u001b[0mfn\u001b[0m\u001b[0;34m(\u001b[0m\u001b[0mM\u001b[0m\u001b[0;34m,\u001b[0m \u001b[0mN\u001b[0m\u001b[0;34m,\u001b[0m \u001b[0mself\u001b[0m\u001b[0;34m.\u001b[0m\u001b[0mindptr\u001b[0m\u001b[0;34m,\u001b[0m \u001b[0mself\u001b[0m\u001b[0;34m.\u001b[0m\u001b[0mindices\u001b[0m\u001b[0;34m,\u001b[0m \u001b[0mself\u001b[0m\u001b[0;34m.\u001b[0m\u001b[0mdata\u001b[0m\u001b[0;34m,\u001b[0m \u001b[0mother\u001b[0m\u001b[0;34m,\u001b[0m \u001b[0mresult\u001b[0m\u001b[0;34m)\u001b[0m\u001b[0;34m\u001b[0m\u001b[0;34m\u001b[0m\u001b[0m\n\u001b[0m\u001b[1;32m    479\u001b[0m \u001b[0;34m\u001b[0m\u001b[0m\n\u001b[1;32m    480\u001b[0m         \u001b[0;32mreturn\u001b[0m \u001b[0mresult\u001b[0m\u001b[0;34m\u001b[0m\u001b[0;34m\u001b[0m\u001b[0m\n",
      "\u001b[0;31mKeyboardInterrupt\u001b[0m: "
     ]
    }
   ],
   "source": [
    "for andata in [\n",
    "    Sample1, \n",
    "    Sample2\n",
    "]:\n",
    "    st.pp.filter_genes(andata,min_cells=3)\n",
    "    st.pp.normalize_total(andata)\n",
    "    st.pp.log1p(andata)\n",
    "#     st.pp.scale(andata)\n",
    "    st.em.run_pca(andata,n_comps=50)\n",
    "    TILE_PATH_ = TILE_PATH / list(Sample1.uns[\"spatial\"].keys())[0]\n",
    "    st.pp.tiling(andata, TILE_PATH_, crop_size=299)\n",
    "    st.pp.extract_feature(andata)\n",
    "    st.spatial.SME.SME_normalize(andata, use_data=\"raw\")"
   ]
  },
  {
   "cell_type": "code",
   "execution_count": null,
   "id": "6657c716",
   "metadata": {},
   "outputs": [],
   "source": [
    "Sample1_imputation = Sample1.copy()\n",
    "Sample1_imputation.X = Sample1_imputation.obsm[\"imputed_data\"]\n",
    "# Sample1_imputation.write_h5ad(OUT_PATH/\"Sample1_imputation.h5ad\")"
   ]
  },
  {
   "cell_type": "code",
   "execution_count": null,
   "id": "3ffba2e0",
   "metadata": {},
   "outputs": [],
   "source": [
    "Sample2_imputation = Sample2.copy()\n",
    "Sample2_imputation.X = Sample2_imputation.obsm[\"imputed_data\"]\n",
    "# Sample2_imputation.write_h5ad(OUT_PATH/\"Sample2_imputation.h5ad\")"
   ]
  },
  {
   "cell_type": "code",
   "execution_count": 12,
   "id": "89347f90",
   "metadata": {},
   "outputs": [],
   "source": [
    "Sample1_imputation = anndata.read_h5ad(OUT_PATH/\"Sample1_imputation.h5ad\")\n",
    "Sample2_imputation = anndata.read_h5ad(OUT_PATH/\"Sample2_imputation.h5ad\")"
   ]
  },
  {
   "cell_type": "code",
   "execution_count": null,
   "id": "444205f1",
   "metadata": {},
   "outputs": [],
   "source": []
  },
  {
   "cell_type": "code",
   "execution_count": 15,
   "id": "ee385bfc",
   "metadata": {},
   "outputs": [],
   "source": [
    "gene = \"COX6C\"\n",
    "model_name = \"stSME\"\n",
    "adata_true = Sample1.copy()\n",
    "adata_pred = Sample1_imputation.copy()\n",
    "p = 0.05\n",
    "\n",
    "gpd_name = \"gpd_{}\".format(model_name)\n",
    "library_id = list(adata_true.uns[\"spatial\"].keys())[0]\n",
    "tissue_image = adata_true.uns[\"spatial\"][library_id][\"images\"][\"fulres\"]\n",
    "    \n",
    "adata_true.obsm[gpd_name] = gpd.GeoDataFrame(adata_true.obs,\n",
    "                                                 geometry=gpd.points_from_xy(\n",
    "                                                          adata_true.obs.imagecol, \n",
    "                                                          adata_true.obs.imagerow))\n",
    "w = Queen.from_dataframe(adata_true.obsm[gpd_name])\n",
    "x = np.array(adata_true.to_df()[gene].values, dtype='float')\n",
    "y = np.array(adata_pred.to_df()[gene].values, dtype='float')\n",
    "\n",
    "adata_true.obsm[gpd_name][\"gc_{}\".format(gene)] = x\n",
    "adata_true.obsm[gpd_name][\"pred_{}\".format(gene)] = y\n",
    "        \n",
    "#         moran = Moran(x,w)\n",
    "moran_bv = Moran_BV(y, x, w)\n",
    "#         moran_loc = Moran_Local(x, w)\n",
    "moran_loc_bv = Moran_Local_BV(y, x, w)\n",
    "        \n",
    "labels, n_sig = hot_cold_label(moran_loc_bv, p)"
   ]
  },
  {
   "cell_type": "code",
   "execution_count": 1,
   "id": "12370ac8",
   "metadata": {},
   "outputs": [],
   "source": [
    "# lisa_cluster(moran_loc_bv, adata_true.obsm[gpd_name], figsize = (9,9), markersize=12, **{\"alpha\":0.8})\n",
    "# plt.imshow(adata_true.uns[\"spatial\"][\"block1\"][\"images\"][\"fulres\"])\n",
    "# plt.show()"
   ]
  },
  {
   "cell_type": "code",
   "execution_count": 2,
   "id": "130f8bbb",
   "metadata": {
    "scrolled": true
   },
   "outputs": [],
   "source": [
    "common_genes = Sample1.var_names.intersection(Sample2.var_names)\n",
    "Sample1_commom = Sample1[:,common_genes].copy()\n",
    "Sample2_commom = Sample2[:,common_genes].copy()\n",
    "Sample1_imputation_commom = Sample1_imputation[:,common_genes].copy()\n",
    "Sample2_imputation_commom = Sample2_imputation[:,common_genes].copy()"
   ]
  },
  {
   "cell_type": "code",
   "execution_count": null,
   "id": "8b03ddd5",
   "metadata": {},
   "outputs": [],
   "source": [
    "sc.pp.highly_variable_genes(Sample1_commom, n_top_genes=2000)"
   ]
  },
  {
   "cell_type": "code",
   "execution_count": null,
   "id": "689b1a8d",
   "metadata": {},
   "outputs": [],
   "source": [
    "df_1_ = spatial_autocorr(Sample1_commom[:,Sample1_commom.var.highly_variable], \n",
    "                      Sample1_imputation_commom[:,Sample1_commom.var.highly_variable], \"stSME\")"
   ]
  },
  {
   "cell_type": "code",
   "execution_count": null,
   "id": "5a28443f",
   "metadata": {},
   "outputs": [],
   "source": [
    "df_2_ = spatial_autocorr(Sample2_commom[:,Sample1_commom.var.highly_variable], \n",
    "                      Sample2_imputation_commom[:,Sample1_commom.var.highly_variable], \"stSME\")"
   ]
  },
  {
   "cell_type": "code",
   "execution_count": null,
   "id": "0f799524",
   "metadata": {},
   "outputs": [],
   "source": [
    "# df_1_.to_csv(OUT_PATH / \"2000HVG_autocorr_S1.csv\")\n",
    "# df_2_.to_csv(OUT_PATH / \"2000HVG_autocorr_S2.csv\")"
   ]
  },
  {
   "cell_type": "code",
   "execution_count": null,
   "id": "dbb3aff2",
   "metadata": {},
   "outputs": [],
   "source": [
    "df_1_ = pd.read_csv(OUT_PATH / \"2000HVG_autocorr_S1.csv\", index_col=0)\n",
    "df_2_ = pd.read_csv(OUT_PATH / \"2000HVG_autocorr_S2.csv\", index_col=0)"
   ]
  },
  {
   "cell_type": "code",
   "execution_count": null,
   "id": "3168365d",
   "metadata": {},
   "outputs": [],
   "source": [
    "df_1_[\"Sample\"] = \"Sample1\"\n",
    "df_2_[\"Sample\"] = \"Sample2\"\n",
    "df_1_[\"Genes\"] = df_1_.index\n",
    "df_2_[\"Genes\"] = df_2_.index\n",
    "df_final = pd.concat([df_1_, df_2_], axis=0,ignore_index=True)"
   ]
  },
  {
   "cell_type": "code",
   "execution_count": null,
   "id": "9d1243ec",
   "metadata": {},
   "outputs": [],
   "source": [
    "bins = np.arange(0.0, 1.1, 0.1)\n",
    "labels = [\"<\"+str(i)+\"%\" for i in np.arange(10, 110, 10)]\n",
    "df_final[\"bin\"] = pd.cut(df_final[\"n_zero\"], bins=bins, labels=labels)"
   ]
  },
  {
   "cell_type": "code",
   "execution_count": null,
   "id": "648ea775",
   "metadata": {},
   "outputs": [],
   "source": [
    "f, ax = plt.subplots(figsize=(6, 5))\n",
    "g = sns.scatterplot(x=df_1_[\"moran_i\"], y=df_2_[\"moran_i\"], s=10, hue = df_1_[\"n_zero\"],palette=\"Reds_r\",)\n",
    "g.legend(loc='center left', bbox_to_anchor=(1, 0.85), ncol=1,\n",
    "         title='Percentage of \"0\" Spots')\n",
    "plt.title('Spatial Autocorrelation')\n",
    "# Set x-axis label\n",
    "plt.xlabel('Moran\\'s I of Sample 1')\n",
    "# Set y-axis label\n",
    "plt.ylabel('Moran\\'s I of Sample 2')\n",
    "plt.plot([0, 0], [1, 1], linewidth=2)\n",
    "plt.tight_layout()\n",
    "# plt.savefig(OUT_PATH / \"plot_2000HVG_spaAuto.pdf\", dpi=300)\n",
    "plt.show()"
   ]
  },
  {
   "cell_type": "code",
   "execution_count": null,
   "id": "67b9e522",
   "metadata": {},
   "outputs": [],
   "source": [
    "f, ax = plt.subplots(figsize=(6, 5))\n",
    "g = sns.stripplot(x=\"Sample\", y=\"moran_i\", s=2, hue=\"bin\", palette=\"Reds_r\",\n",
    "                  data=df_final)\n",
    "# sns.boxplot(x=\"Sample\", y=\"moran_i\",\n",
    "#                   data=df_final)\n",
    "g.legend(loc='center left', bbox_to_anchor=(1, 0.7), ncol=1,\n",
    "         title='Percentage of \"0\" Spots')\n",
    "plt.title('Spatial Autocorrelation')\n",
    "# Set x-axis label\n",
    "plt.ylabel('Moran\\'s I')\n",
    "# Set y-axis label\n",
    "plt.xlabel('Sample')\n",
    "# plt.plot([0, 0], [1, 1], linewidth=2)\n",
    "plt.tight_layout()\n",
    "# plt.savefig(OUT_PATH / \"plot_2000HVG_spaAuto.pdf\", dpi=300)\n",
    "plt.show()"
   ]
  },
  {
   "cell_type": "code",
   "execution_count": null,
   "id": "ef6fc87b",
   "metadata": {},
   "outputs": [],
   "source": [
    "df_1_ = pearson_r2(Sample1_commom[:,Sample1_commom.var.highly_variable], \n",
    "                      Sample1_imputation_commom[:,Sample1_commom.var.highly_variable], \"stSME\")"
   ]
  },
  {
   "cell_type": "code",
   "execution_count": null,
   "id": "0bac5338",
   "metadata": {},
   "outputs": [],
   "source": [
    "df_2_ = pearson_r2(Sample2_commom[:,Sample1_commom.var.highly_variable], \n",
    "                      Sample2_imputation_commom[:,Sample1_commom.var.highly_variable], \"stSME\")"
   ]
  },
  {
   "cell_type": "code",
   "execution_count": null,
   "id": "d772fb23",
   "metadata": {},
   "outputs": [],
   "source": [
    "df_1_.to_csv(OUT_PATH / \"2000HVG_pearson_r2_S1.csv\")\n",
    "df_2_.to_csv(OUT_PATH / \"2000HVG_pearson_r2_S2.csv\")"
   ]
  },
  {
   "cell_type": "code",
   "execution_count": null,
   "id": "3e23c83a",
   "metadata": {},
   "outputs": [],
   "source": [
    "df_1_ = pd.read_csv(OUT_PATH / \"2000HVG_pearson_r2_S1.csv\", index_col=0)\n",
    "df_2_ = pd.read_csv(OUT_PATH / \"2000HVG_pearson_r2_S2.csv\", index_col=0)"
   ]
  },
  {
   "cell_type": "code",
   "execution_count": null,
   "id": "2f189885",
   "metadata": {},
   "outputs": [],
   "source": [
    "df_1_[\"Sample\"] = \"Sample1\"\n",
    "df_2_[\"Sample\"] = \"Sample2\"\n",
    "df_1_[\"Genes\"] = df_1_.index\n",
    "df_2_[\"Genes\"] = df_2_.index\n",
    "df_final = pd.concat([df_1_, df_2_], axis=0,ignore_index=True)"
   ]
  },
  {
   "cell_type": "code",
   "execution_count": null,
   "id": "aafa5ac0",
   "metadata": {},
   "outputs": [],
   "source": [
    "bins = np.arange(0.0, 1.1, 0.1)\n",
    "labels = [\"<\"+str(i)+\"%\" for i in np.arange(10, 110, 10)]\n",
    "df_final[\"bin\"] = pd.cut(df_final[\"n_zero\"], bins=bins, labels=labels)"
   ]
  },
  {
   "cell_type": "code",
   "execution_count": null,
   "id": "6fd5f5d4",
   "metadata": {},
   "outputs": [],
   "source": [
    "f, ax = plt.subplots(figsize=(6, 5))\n",
    "g = sns.scatterplot(x=df_1_[\"r2\"], y=df_2_[\"r2\"], s=10, hue = df_1_[\"n_zero\"],palette=\"Reds_r\",)\n",
    "g.legend(loc='center left', bbox_to_anchor=(1, 0.85), ncol=1,\n",
    "         title='Percentage of \"0\" Spots')\n",
    "plt.title('pearson correlation')\n",
    "# Set x-axis label\n",
    "plt.xlabel('pearson correlation of Sample 1')\n",
    "# Set y-axis label\n",
    "plt.ylabel('pearson correlation of Sample 2')\n",
    "plt.plot([0, 0], [1, 1], linewidth=2)\n",
    "plt.tight_layout()\n",
    "# plt.savefig(OUT_PATH / \"plot_2000HVG_spaAuto.pdf\", dpi=300)\n",
    "plt.show()"
   ]
  },
  {
   "cell_type": "code",
   "execution_count": null,
   "id": "322e0946",
   "metadata": {},
   "outputs": [],
   "source": []
  }
 ],
 "metadata": {
  "kernelspec": {
   "display_name": "Python 3",
   "language": "python",
   "name": "python3"
  },
  "language_info": {
   "codemirror_mode": {
    "name": "ipython",
    "version": 3
   },
   "file_extension": ".py",
   "mimetype": "text/x-python",
   "name": "python",
   "nbconvert_exporter": "python",
   "pygments_lexer": "ipython3",
   "version": "3.8.6"
  }
 },
 "nbformat": 4,
 "nbformat_minor": 5
}
